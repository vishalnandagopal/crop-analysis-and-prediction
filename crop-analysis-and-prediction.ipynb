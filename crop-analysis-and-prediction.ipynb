{
 "cells": [
  {
   "attachments": {},
   "cell_type": "markdown",
   "id": "equivalent-collectible",
   "metadata": {
    "execution": {
     "iopub.execute_input": "2021-05-27T12:06:48.239027Z",
     "iopub.status.busy": "2021-05-27T12:06:48.238462Z",
     "iopub.status.idle": "2021-05-27T12:06:48.245744Z",
     "shell.execute_reply": "2021-05-27T12:06:48.244007Z",
     "shell.execute_reply.started": "2021-05-27T12:06:48.238895Z"
    },
    "papermill": {
     "duration": 0.037097,
     "end_time": "2021-06-02T16:01:01.172483",
     "exception": false,
     "start_time": "2021-06-02T16:01:01.135386",
     "status": "completed"
    },
    "tags": []
   },
   "source": [
    "# Analysis and prediction of total geographical land use\n",
    "\n",
    "<!-- <center><img src= \"https://www.newfoodmagazine.com/wp-content/uploads/shutterstock_1118643128-scaled.jpg\" alt =\"crops\" style=\"width:400px;\"></center><br> -->"
   ]
  },
  {
   "attachments": {},
   "cell_type": "markdown",
   "id": "cleared-sample",
   "metadata": {
    "execution": {
     "iopub.execute_input": "2021-05-27T17:09:06.428125Z",
     "iopub.status.busy": "2021-05-27T17:09:06.42743Z",
     "iopub.status.idle": "2021-05-27T17:09:06.436102Z",
     "shell.execute_reply": "2021-05-27T17:09:06.434709Z",
     "shell.execute_reply.started": "2021-05-27T17:09:06.428081Z"
    },
    "papermill": {
     "duration": 0.034676,
     "end_time": "2021-06-02T16:01:01.242510",
     "exception": false,
     "start_time": "2021-06-02T16:01:01.207834",
     "status": "completed"
    },
    "tags": []
   },
   "source": [
    "<!-- - Machine Learning has the capability to effectively analyze soil data, such as moisture level, temperature, and chemical composition, which have a significant impact on the growth of crops and the health of livestock.\n",
    "\n",
    "- In the field of agriculture, this technology allows for precise cultivation of crops, where each plant and animal can be treated individually, leading to more effective decisions by farmers.\n",
    "\n",
    "- By leveraging Machine Learning, it is possible to develop methods to predict crop yields and assess the quality of crops on a per-species basis, thus making it possible to detect crop diseases and weed infestations which were previously impossible. -->"
   ]
  },
  {
   "cell_type": "code",
   "execution_count": 136,
   "id": "humanitarian-reservoir",
   "metadata": {
    "_cell_guid": "b1076dfc-b9ad-4769-8c92-a6c4dae69d19",
    "_uuid": "8f2839f25d086af736a60e9eeb907d3b93b6e0e5",
    "execution": {
     "iopub.execute_input": "2021-06-02T16:01:01.324038Z",
     "iopub.status.busy": "2021-06-02T16:01:01.323402Z",
     "iopub.status.idle": "2021-06-02T16:01:01.344560Z",
     "shell.execute_reply": "2021-06-02T16:01:01.343912Z",
     "shell.execute_reply.started": "2021-05-27T17:18:52.72529Z"
    },
    "papermill": {
     "duration": 0.067113,
     "end_time": "2021-06-02T16:01:01.344777",
     "exception": false,
     "start_time": "2021-06-02T16:01:01.277664",
     "status": "completed"
    },
    "tags": []
   },
   "outputs": [],
   "source": [
    "# Disable warnings\n",
    "\n",
    "import warnings\n",
    "\n",
    "warnings.simplefilter(action=\"ignore\", category=FutureWarning)\n",
    "warnings.simplefilter(action=\"ignore\", category=UserWarning)\n"
   ]
  },
  {
   "cell_type": "code",
   "execution_count": 137,
   "id": "b28d795e",
   "metadata": {},
   "outputs": [],
   "source": [
    "# Importing the neccessary libraries\n",
    "\n",
    "import numpy as np\n",
    "import pandas as pd\n"
   ]
  },
  {
   "attachments": {},
   "cell_type": "markdown",
   "id": "8d85109b",
   "metadata": {},
   "source": [
    "# Ensemble learning on the Kaggle dataset\n",
    "\n",
    "Dataset taken from Kaggle, present [here](./datasets/Crop_recommendation.csv)"
   ]
  },
  {
   "cell_type": "code",
   "execution_count": 138,
   "id": "dated-amazon",
   "metadata": {
    "execution": {
     "iopub.execute_input": "2021-06-02T16:01:02.330191Z",
     "iopub.status.busy": "2021-06-02T16:01:02.329409Z",
     "iopub.status.idle": "2021-06-02T16:01:02.382030Z",
     "shell.execute_reply": "2021-06-02T16:01:02.382528Z",
     "shell.execute_reply.started": "2021-05-27T17:18:53.683278Z"
    },
    "papermill": {
     "duration": 0.092913,
     "end_time": "2021-06-02T16:01:02.382748",
     "exception": false,
     "start_time": "2021-06-02T16:01:02.289835",
     "status": "completed"
    },
    "tags": []
   },
   "outputs": [],
   "source": [
    "# Reading the dataset\n",
    "df = pd.read_csv(\"./datasets/crop_recommendation.csv\")\n"
   ]
  },
  {
   "cell_type": "code",
   "execution_count": 139,
   "id": "legal-colon",
   "metadata": {
    "execution": {
     "iopub.execute_input": "2021-06-02T16:01:02.460763Z",
     "iopub.status.busy": "2021-06-02T16:01:02.459936Z",
     "iopub.status.idle": "2021-06-02T16:01:02.496023Z",
     "shell.execute_reply": "2021-06-02T16:01:02.496472Z",
     "shell.execute_reply.started": "2021-05-27T17:18:53.732085Z"
    },
    "papermill": {
     "duration": 0.076515,
     "end_time": "2021-06-02T16:01:02.496702",
     "exception": false,
     "start_time": "2021-06-02T16:01:02.420187",
     "status": "completed"
    },
    "tags": []
   },
   "outputs": [
    {
     "data": {
      "text/html": [
       "<div>\n",
       "<style scoped>\n",
       "    .dataframe tbody tr th:only-of-type {\n",
       "        vertical-align: middle;\n",
       "    }\n",
       "\n",
       "    .dataframe tbody tr th {\n",
       "        vertical-align: top;\n",
       "    }\n",
       "\n",
       "    .dataframe thead th {\n",
       "        text-align: right;\n",
       "    }\n",
       "</style>\n",
       "<table border=\"1\" class=\"dataframe\">\n",
       "  <thead>\n",
       "    <tr style=\"text-align: right;\">\n",
       "      <th></th>\n",
       "      <th>N</th>\n",
       "      <th>P</th>\n",
       "      <th>K</th>\n",
       "      <th>temperature</th>\n",
       "      <th>humidity</th>\n",
       "      <th>ph</th>\n",
       "      <th>rainfall</th>\n",
       "      <th>label</th>\n",
       "    </tr>\n",
       "  </thead>\n",
       "  <tbody>\n",
       "    <tr>\n",
       "      <th>0</th>\n",
       "      <td>90</td>\n",
       "      <td>42</td>\n",
       "      <td>43</td>\n",
       "      <td>20.879744</td>\n",
       "      <td>82.002744</td>\n",
       "      <td>6.502985</td>\n",
       "      <td>202.935536</td>\n",
       "      <td>rice</td>\n",
       "    </tr>\n",
       "    <tr>\n",
       "      <th>1</th>\n",
       "      <td>85</td>\n",
       "      <td>58</td>\n",
       "      <td>41</td>\n",
       "      <td>21.770462</td>\n",
       "      <td>80.319644</td>\n",
       "      <td>7.038096</td>\n",
       "      <td>226.655537</td>\n",
       "      <td>rice</td>\n",
       "    </tr>\n",
       "    <tr>\n",
       "      <th>2</th>\n",
       "      <td>60</td>\n",
       "      <td>55</td>\n",
       "      <td>44</td>\n",
       "      <td>23.004459</td>\n",
       "      <td>82.320763</td>\n",
       "      <td>7.840207</td>\n",
       "      <td>263.964248</td>\n",
       "      <td>rice</td>\n",
       "    </tr>\n",
       "    <tr>\n",
       "      <th>3</th>\n",
       "      <td>74</td>\n",
       "      <td>35</td>\n",
       "      <td>40</td>\n",
       "      <td>26.491096</td>\n",
       "      <td>80.158363</td>\n",
       "      <td>6.980401</td>\n",
       "      <td>242.864034</td>\n",
       "      <td>rice</td>\n",
       "    </tr>\n",
       "    <tr>\n",
       "      <th>4</th>\n",
       "      <td>78</td>\n",
       "      <td>42</td>\n",
       "      <td>42</td>\n",
       "      <td>20.130175</td>\n",
       "      <td>81.604873</td>\n",
       "      <td>7.628473</td>\n",
       "      <td>262.717340</td>\n",
       "      <td>rice</td>\n",
       "    </tr>\n",
       "  </tbody>\n",
       "</table>\n",
       "</div>"
      ],
      "text/plain": [
       "    N   P   K  temperature   humidity        ph    rainfall label\n",
       "0  90  42  43    20.879744  82.002744  6.502985  202.935536  rice\n",
       "1  85  58  41    21.770462  80.319644  7.038096  226.655537  rice\n",
       "2  60  55  44    23.004459  82.320763  7.840207  263.964248  rice\n",
       "3  74  35  40    26.491096  80.158363  6.980401  242.864034  rice\n",
       "4  78  42  42    20.130175  81.604873  7.628473  262.717340  rice"
      ]
     },
     "execution_count": 139,
     "metadata": {},
     "output_type": "execute_result"
    }
   ],
   "source": [
    "df.head()\n"
   ]
  },
  {
   "cell_type": "code",
   "execution_count": 140,
   "id": "54047c52",
   "metadata": {},
   "outputs": [
    {
     "data": {
      "text/html": [
       "<div>\n",
       "<style scoped>\n",
       "    .dataframe tbody tr th:only-of-type {\n",
       "        vertical-align: middle;\n",
       "    }\n",
       "\n",
       "    .dataframe tbody tr th {\n",
       "        vertical-align: top;\n",
       "    }\n",
       "\n",
       "    .dataframe thead th {\n",
       "        text-align: right;\n",
       "    }\n",
       "</style>\n",
       "<table border=\"1\" class=\"dataframe\">\n",
       "  <thead>\n",
       "    <tr style=\"text-align: right;\">\n",
       "      <th></th>\n",
       "      <th>N</th>\n",
       "      <th>P</th>\n",
       "      <th>K</th>\n",
       "      <th>temperature</th>\n",
       "      <th>humidity</th>\n",
       "      <th>ph</th>\n",
       "      <th>rainfall</th>\n",
       "    </tr>\n",
       "  </thead>\n",
       "  <tbody>\n",
       "    <tr>\n",
       "      <th>count</th>\n",
       "      <td>2200.000000</td>\n",
       "      <td>2200.000000</td>\n",
       "      <td>2200.000000</td>\n",
       "      <td>2200.000000</td>\n",
       "      <td>2200.000000</td>\n",
       "      <td>2200.000000</td>\n",
       "      <td>2200.000000</td>\n",
       "    </tr>\n",
       "    <tr>\n",
       "      <th>mean</th>\n",
       "      <td>50.551818</td>\n",
       "      <td>53.362727</td>\n",
       "      <td>48.149091</td>\n",
       "      <td>25.616244</td>\n",
       "      <td>71.481779</td>\n",
       "      <td>6.469480</td>\n",
       "      <td>103.463655</td>\n",
       "    </tr>\n",
       "    <tr>\n",
       "      <th>std</th>\n",
       "      <td>36.917334</td>\n",
       "      <td>32.985883</td>\n",
       "      <td>50.647931</td>\n",
       "      <td>5.063749</td>\n",
       "      <td>22.263812</td>\n",
       "      <td>0.773938</td>\n",
       "      <td>54.958389</td>\n",
       "    </tr>\n",
       "    <tr>\n",
       "      <th>min</th>\n",
       "      <td>0.000000</td>\n",
       "      <td>5.000000</td>\n",
       "      <td>5.000000</td>\n",
       "      <td>8.825675</td>\n",
       "      <td>14.258040</td>\n",
       "      <td>3.504752</td>\n",
       "      <td>20.211267</td>\n",
       "    </tr>\n",
       "    <tr>\n",
       "      <th>25%</th>\n",
       "      <td>21.000000</td>\n",
       "      <td>28.000000</td>\n",
       "      <td>20.000000</td>\n",
       "      <td>22.769375</td>\n",
       "      <td>60.261953</td>\n",
       "      <td>5.971693</td>\n",
       "      <td>64.551686</td>\n",
       "    </tr>\n",
       "    <tr>\n",
       "      <th>50%</th>\n",
       "      <td>37.000000</td>\n",
       "      <td>51.000000</td>\n",
       "      <td>32.000000</td>\n",
       "      <td>25.598693</td>\n",
       "      <td>80.473146</td>\n",
       "      <td>6.425045</td>\n",
       "      <td>94.867624</td>\n",
       "    </tr>\n",
       "    <tr>\n",
       "      <th>75%</th>\n",
       "      <td>84.250000</td>\n",
       "      <td>68.000000</td>\n",
       "      <td>49.000000</td>\n",
       "      <td>28.561654</td>\n",
       "      <td>89.948771</td>\n",
       "      <td>6.923643</td>\n",
       "      <td>124.267508</td>\n",
       "    </tr>\n",
       "    <tr>\n",
       "      <th>max</th>\n",
       "      <td>140.000000</td>\n",
       "      <td>145.000000</td>\n",
       "      <td>205.000000</td>\n",
       "      <td>43.675493</td>\n",
       "      <td>99.981876</td>\n",
       "      <td>9.935091</td>\n",
       "      <td>298.560117</td>\n",
       "    </tr>\n",
       "  </tbody>\n",
       "</table>\n",
       "</div>"
      ],
      "text/plain": [
       "                 N            P            K  temperature     humidity  \\\n",
       "count  2200.000000  2200.000000  2200.000000  2200.000000  2200.000000   \n",
       "mean     50.551818    53.362727    48.149091    25.616244    71.481779   \n",
       "std      36.917334    32.985883    50.647931     5.063749    22.263812   \n",
       "min       0.000000     5.000000     5.000000     8.825675    14.258040   \n",
       "25%      21.000000    28.000000    20.000000    22.769375    60.261953   \n",
       "50%      37.000000    51.000000    32.000000    25.598693    80.473146   \n",
       "75%      84.250000    68.000000    49.000000    28.561654    89.948771   \n",
       "max     140.000000   145.000000   205.000000    43.675493    99.981876   \n",
       "\n",
       "                ph     rainfall  \n",
       "count  2200.000000  2200.000000  \n",
       "mean      6.469480   103.463655  \n",
       "std       0.773938    54.958389  \n",
       "min       3.504752    20.211267  \n",
       "25%       5.971693    64.551686  \n",
       "50%       6.425045    94.867624  \n",
       "75%       6.923643   124.267508  \n",
       "max       9.935091   298.560117  "
      ]
     },
     "execution_count": 140,
     "metadata": {},
     "output_type": "execute_result"
    }
   ],
   "source": [
    "df.describe()\n"
   ]
  },
  {
   "attachments": {},
   "cell_type": "markdown",
   "id": "a61ee523",
   "metadata": {},
   "source": [
    "Colnames is the name of all columns in the datset"
   ]
  },
  {
   "cell_type": "code",
   "execution_count": 141,
   "id": "8a88b29b",
   "metadata": {},
   "outputs": [],
   "source": [
    "colnames = list(df.columns)\n",
    "rownums = len(df[colnames[0]])\n"
   ]
  },
  {
   "cell_type": "code",
   "execution_count": 142,
   "id": "0e8ba020",
   "metadata": {},
   "outputs": [
    {
     "name": "stdout",
     "output_type": "stream",
     "text": [
      "Columns in the dataset are N, P, K, temperature, humidity, ph, rainfall, label\n",
      "The number of rows is 2200\n"
     ]
    }
   ],
   "source": [
    "print(\"Columns in the dataset are\", \", \".join(colnames))\n",
    "print(\"The number of rows is\",rownums)\n"
   ]
  },
  {
   "attachments": {},
   "cell_type": "markdown",
   "id": "d80647b4",
   "metadata": {},
   "source": [
    "Let us create separate test and training dataframes from the total dataset. We shuffle the rows first since it is ordered by crops, and we want to include all crops in training.\n",
    "\n",
    "Training dataset = First 2000 rows\n",
    "Testing dataset = 200 rows after that"
   ]
  },
  {
   "cell_type": "code",
   "execution_count": 143,
   "id": "06654cdd",
   "metadata": {},
   "outputs": [
    {
     "name": "stdout",
     "output_type": "stream",
     "text": [
      "Length of training dataset is 1980, length of testing is 220\n"
     ]
    }
   ],
   "source": [
    "df = df.sample(frac=1).reset_index(drop=True)\n",
    "\n",
    "size_of_training = rownums - rownums // 10\n",
    "\n",
    "print(\n",
    "    f\"Length of training dataset is {size_of_training}, length of testing is {rownums - size_of_training}\"\n",
    ")\n",
    "\n",
    "training_df = df.iloc[:size_of_training, :]\n",
    "testing_df = df.iloc[size_of_training:, :]\n"
   ]
  },
  {
   "cell_type": "code",
   "execution_count": 144,
   "id": "b2b3d608",
   "metadata": {},
   "outputs": [
    {
     "data": {
      "text/html": [
       "<div>\n",
       "<style scoped>\n",
       "    .dataframe tbody tr th:only-of-type {\n",
       "        vertical-align: middle;\n",
       "    }\n",
       "\n",
       "    .dataframe tbody tr th {\n",
       "        vertical-align: top;\n",
       "    }\n",
       "\n",
       "    .dataframe thead th {\n",
       "        text-align: right;\n",
       "    }\n",
       "</style>\n",
       "<table border=\"1\" class=\"dataframe\">\n",
       "  <thead>\n",
       "    <tr style=\"text-align: right;\">\n",
       "      <th></th>\n",
       "      <th>N</th>\n",
       "      <th>P</th>\n",
       "      <th>K</th>\n",
       "      <th>temperature</th>\n",
       "      <th>humidity</th>\n",
       "      <th>ph</th>\n",
       "      <th>rainfall</th>\n",
       "      <th>label</th>\n",
       "    </tr>\n",
       "  </thead>\n",
       "  <tbody>\n",
       "    <tr>\n",
       "      <th>0</th>\n",
       "      <td>108</td>\n",
       "      <td>23</td>\n",
       "      <td>51</td>\n",
       "      <td>26.843661</td>\n",
       "      <td>83.850400</td>\n",
       "      <td>6.106501</td>\n",
       "      <td>40.228644</td>\n",
       "      <td>watermelon</td>\n",
       "    </tr>\n",
       "    <tr>\n",
       "      <th>1</th>\n",
       "      <td>91</td>\n",
       "      <td>24</td>\n",
       "      <td>55</td>\n",
       "      <td>26.270616</td>\n",
       "      <td>83.091945</td>\n",
       "      <td>6.259087</td>\n",
       "      <td>46.768375</td>\n",
       "      <td>watermelon</td>\n",
       "    </tr>\n",
       "    <tr>\n",
       "      <th>2</th>\n",
       "      <td>11</td>\n",
       "      <td>36</td>\n",
       "      <td>31</td>\n",
       "      <td>27.920633</td>\n",
       "      <td>51.779659</td>\n",
       "      <td>6.475449</td>\n",
       "      <td>100.258567</td>\n",
       "      <td>mango</td>\n",
       "    </tr>\n",
       "    <tr>\n",
       "      <th>3</th>\n",
       "      <td>113</td>\n",
       "      <td>15</td>\n",
       "      <td>29</td>\n",
       "      <td>27.096172</td>\n",
       "      <td>63.553243</td>\n",
       "      <td>6.779230</td>\n",
       "      <td>190.244057</td>\n",
       "      <td>coffee</td>\n",
       "    </tr>\n",
       "    <tr>\n",
       "      <th>4</th>\n",
       "      <td>9</td>\n",
       "      <td>49</td>\n",
       "      <td>16</td>\n",
       "      <td>30.884827</td>\n",
       "      <td>41.365618</td>\n",
       "      <td>7.661537</td>\n",
       "      <td>55.053805</td>\n",
       "      <td>mothbeans</td>\n",
       "    </tr>\n",
       "  </tbody>\n",
       "</table>\n",
       "</div>"
      ],
      "text/plain": [
       "     N   P   K  temperature   humidity        ph    rainfall       label\n",
       "0  108  23  51    26.843661  83.850400  6.106501   40.228644  watermelon\n",
       "1   91  24  55    26.270616  83.091945  6.259087   46.768375  watermelon\n",
       "2   11  36  31    27.920633  51.779659  6.475449  100.258567       mango\n",
       "3  113  15  29    27.096172  63.553243  6.779230  190.244057      coffee\n",
       "4    9  49  16    30.884827  41.365618  7.661537   55.053805   mothbeans"
      ]
     },
     "execution_count": 144,
     "metadata": {},
     "output_type": "execute_result"
    }
   ],
   "source": [
    "training_df.head()\n"
   ]
  },
  {
   "cell_type": "code",
   "execution_count": 145,
   "id": "a24b380d",
   "metadata": {},
   "outputs": [
    {
     "name": "stdout",
     "output_type": "stream",
     "text": [
      "Feature variables are N, P, K, temperature, humidity, ph, rainfall\n",
      "Target labels are  watermelon, mothbeans, papaya, mungbean, mango, banana, orange, chickpea, coffee, kidneybeans, grapes, apple, pomegranate, jute, coconut, rice, pigeonpeas, lentil, muskmelon, maize, cotton, blackgram\n"
     ]
    }
   ],
   "source": [
    "feature_variables = colnames.copy()\n",
    "feature_variables.remove(\"label\")\n",
    "\n",
    "target_labels = list(set(training_df[\"label\"]))\n",
    "\n",
    "print(\"Feature variables are\", \", \".join(feature_variables))\n",
    "print(\"Target labels are \", \", \".join(target_labels))\n"
   ]
  },
  {
   "attachments": {},
   "cell_type": "markdown",
   "id": "e259a910",
   "metadata": {},
   "source": [
    "Feature variables are everything except the name of the crops\n",
    "\n",
    "Feature matrix is the values of all the feature variables in a matrix format"
   ]
  },
  {
   "cell_type": "code",
   "execution_count": 146,
   "id": "17aaae05",
   "metadata": {},
   "outputs": [],
   "source": [
    "feature_matrix = []\n",
    "\n",
    "for i in range(len(training_df[colnames[0]])):\n",
    "    _ = []\n",
    "\n",
    "    for feature_variable in feature_variables:\n",
    "        _str = training_df.at[i, feature_variable]\n",
    "\n",
    "        val = int(_str) if int(_str) == float(_str) else float(_str)\n",
    "\n",
    "        _.append(val)\n",
    "    feature_matrix.append(_)\n"
   ]
  },
  {
   "cell_type": "code",
   "execution_count": 147,
   "id": "a7dcae6a",
   "metadata": {},
   "outputs": [],
   "source": [
    "target_matrix = [\n",
    "    training_df.at[i, \"label\"] for i in range(len(training_df[colnames[0]]))\n",
    "]\n"
   ]
  },
  {
   "cell_type": "code",
   "execution_count": 148,
   "id": "a867da0b",
   "metadata": {},
   "outputs": [
    {
     "name": "stdout",
     "output_type": "stream",
     "text": [
      "Feature & target matrix:\n",
      "[108, 23, 51, 26.84366082, 83.85039964, 6.106500787000001, 40.228644] watermelon\n",
      "[91, 24, 55, 26.27061608, 83.09194521, 6.259086582999999, 46.76837499] watermelon\n",
      "[11, 36, 31, 27.92063282, 51.77965917, 6.47544932, 100.2585673] mango\n",
      "[113, 15, 29, 27.09617155, 63.55324262, 6.779230041, 190.2440566] coffee\n",
      "[9, 49, 16, 30.88482722, 41.36561835, 7.661537347999999, 55.053805] mothbeans\n",
      "and so on\n"
     ]
    }
   ],
   "source": [
    "print(\n",
    "    \"Feature & target matrix:\",\n",
    "    f\"{feature_matrix[0]} {target_matrix[0]}\",\n",
    "    f\"{feature_matrix[1]} {target_matrix[1]}\",\n",
    "    f\"{feature_matrix[2]} {target_matrix[2]}\",\n",
    "    f\"{feature_matrix[3]} {target_matrix[3]}\",\n",
    "    f\"{feature_matrix[4]} {target_matrix[4]}\",\n",
    "    \"and so on\",\n",
    "    sep=\"\\n\",\n",
    ")\n"
   ]
  },
  {
   "cell_type": "code",
   "execution_count": 149,
   "id": "302ad376",
   "metadata": {},
   "outputs": [],
   "source": [
    "# Modules for making a Voter\n",
    "from sklearn.ensemble import VotingClassifier as Voter\n",
    "from sklearn.tree import DecisionTreeClassifier\n",
    "from sklearn.ensemble import RandomForestClassifier\n",
    "from sklearn.linear_model import LogisticRegression\n"
   ]
  },
  {
   "cell_type": "code",
   "execution_count": 150,
   "id": "12d48f02",
   "metadata": {},
   "outputs": [],
   "source": [
    "# Using X,Y naming convention as input output\n",
    "X = feature_matrix\n",
    "Y = target_matrix\n",
    "\n",
    "# Base classifiers\n",
    "clf1 = DecisionTreeClassifier(max_depth=4)\n",
    "clf2 = RandomForestClassifier(n_estimators=50, random_state=1)\n",
    "clf3 = LogisticRegression(random_state=1)\n"
   ]
  },
  {
   "cell_type": "code",
   "execution_count": 151,
   "id": "4d028593",
   "metadata": {},
   "outputs": [
    {
     "data": {
      "text/html": [
       "<style>#sk-container-id-7 {color: black;background-color: white;}#sk-container-id-7 pre{padding: 0;}#sk-container-id-7 div.sk-toggleable {background-color: white;}#sk-container-id-7 label.sk-toggleable__label {cursor: pointer;display: block;width: 100%;margin-bottom: 0;padding: 0.3em;box-sizing: border-box;text-align: center;}#sk-container-id-7 label.sk-toggleable__label-arrow:before {content: \"▸\";float: left;margin-right: 0.25em;color: #696969;}#sk-container-id-7 label.sk-toggleable__label-arrow:hover:before {color: black;}#sk-container-id-7 div.sk-estimator:hover label.sk-toggleable__label-arrow:before {color: black;}#sk-container-id-7 div.sk-toggleable__content {max-height: 0;max-width: 0;overflow: hidden;text-align: left;background-color: #f0f8ff;}#sk-container-id-7 div.sk-toggleable__content pre {margin: 0.2em;color: black;border-radius: 0.25em;background-color: #f0f8ff;}#sk-container-id-7 input.sk-toggleable__control:checked~div.sk-toggleable__content {max-height: 200px;max-width: 100%;overflow: auto;}#sk-container-id-7 input.sk-toggleable__control:checked~label.sk-toggleable__label-arrow:before {content: \"▾\";}#sk-container-id-7 div.sk-estimator input.sk-toggleable__control:checked~label.sk-toggleable__label {background-color: #d4ebff;}#sk-container-id-7 div.sk-label input.sk-toggleable__control:checked~label.sk-toggleable__label {background-color: #d4ebff;}#sk-container-id-7 input.sk-hidden--visually {border: 0;clip: rect(1px 1px 1px 1px);clip: rect(1px, 1px, 1px, 1px);height: 1px;margin: -1px;overflow: hidden;padding: 0;position: absolute;width: 1px;}#sk-container-id-7 div.sk-estimator {font-family: monospace;background-color: #f0f8ff;border: 1px dotted black;border-radius: 0.25em;box-sizing: border-box;margin-bottom: 0.5em;}#sk-container-id-7 div.sk-estimator:hover {background-color: #d4ebff;}#sk-container-id-7 div.sk-parallel-item::after {content: \"\";width: 100%;border-bottom: 1px solid gray;flex-grow: 1;}#sk-container-id-7 div.sk-label:hover label.sk-toggleable__label {background-color: #d4ebff;}#sk-container-id-7 div.sk-serial::before {content: \"\";position: absolute;border-left: 1px solid gray;box-sizing: border-box;top: 0;bottom: 0;left: 50%;z-index: 0;}#sk-container-id-7 div.sk-serial {display: flex;flex-direction: column;align-items: center;background-color: white;padding-right: 0.2em;padding-left: 0.2em;position: relative;}#sk-container-id-7 div.sk-item {position: relative;z-index: 1;}#sk-container-id-7 div.sk-parallel {display: flex;align-items: stretch;justify-content: center;background-color: white;position: relative;}#sk-container-id-7 div.sk-item::before, #sk-container-id-7 div.sk-parallel-item::before {content: \"\";position: absolute;border-left: 1px solid gray;box-sizing: border-box;top: 0;bottom: 0;left: 50%;z-index: -1;}#sk-container-id-7 div.sk-parallel-item {display: flex;flex-direction: column;z-index: 1;position: relative;background-color: white;}#sk-container-id-7 div.sk-parallel-item:first-child::after {align-self: flex-end;width: 50%;}#sk-container-id-7 div.sk-parallel-item:last-child::after {align-self: flex-start;width: 50%;}#sk-container-id-7 div.sk-parallel-item:only-child::after {width: 0;}#sk-container-id-7 div.sk-dashed-wrapped {border: 1px dashed gray;margin: 0 0.4em 0.5em 0.4em;box-sizing: border-box;padding-bottom: 0.4em;background-color: white;}#sk-container-id-7 div.sk-label label {font-family: monospace;font-weight: bold;display: inline-block;line-height: 1.2em;}#sk-container-id-7 div.sk-label-container {text-align: center;}#sk-container-id-7 div.sk-container {/* jupyter's `normalize.less` sets `[hidden] { display: none; }` but bootstrap.min.css set `[hidden] { display: none !important; }` so we also need the `!important` here to be able to override the default hidden behavior on the sphinx rendered scikit-learn.org. See: https://github.com/scikit-learn/scikit-learn/issues/21755 */display: inline-block !important;position: relative;}#sk-container-id-7 div.sk-text-repr-fallback {display: none;}</style><div id=\"sk-container-id-7\" class=\"sk-top-container\"><div class=\"sk-text-repr-fallback\"><pre>VotingClassifier(estimators=[(&#x27;dt&#x27;, DecisionTreeClassifier(max_depth=4)),\n",
       "                             (&#x27;rf&#x27;,\n",
       "                              RandomForestClassifier(n_estimators=50,\n",
       "                                                     random_state=1)),\n",
       "                             (&#x27;lr&#x27;, LogisticRegression(random_state=1))])</pre><b>In a Jupyter environment, please rerun this cell to show the HTML representation or trust the notebook. <br />On GitHub, the HTML representation is unable to render, please try loading this page with nbviewer.org.</b></div><div class=\"sk-container\" hidden><div class=\"sk-item sk-dashed-wrapped\"><div class=\"sk-label-container\"><div class=\"sk-label sk-toggleable\"><input class=\"sk-toggleable__control sk-hidden--visually\" id=\"sk-estimator-id-25\" type=\"checkbox\" ><label for=\"sk-estimator-id-25\" class=\"sk-toggleable__label sk-toggleable__label-arrow\">VotingClassifier</label><div class=\"sk-toggleable__content\"><pre>VotingClassifier(estimators=[(&#x27;dt&#x27;, DecisionTreeClassifier(max_depth=4)),\n",
       "                             (&#x27;rf&#x27;,\n",
       "                              RandomForestClassifier(n_estimators=50,\n",
       "                                                     random_state=1)),\n",
       "                             (&#x27;lr&#x27;, LogisticRegression(random_state=1))])</pre></div></div></div><div class=\"sk-parallel\"><div class=\"sk-parallel-item\"><div class=\"sk-item\"><div class=\"sk-label-container\"><div class=\"sk-label sk-toggleable\"><label>dt</label></div></div><div class=\"sk-serial\"><div class=\"sk-item\"><div class=\"sk-estimator sk-toggleable\"><input class=\"sk-toggleable__control sk-hidden--visually\" id=\"sk-estimator-id-26\" type=\"checkbox\" ><label for=\"sk-estimator-id-26\" class=\"sk-toggleable__label sk-toggleable__label-arrow\">DecisionTreeClassifier</label><div class=\"sk-toggleable__content\"><pre>DecisionTreeClassifier(max_depth=4)</pre></div></div></div></div></div></div><div class=\"sk-parallel-item\"><div class=\"sk-item\"><div class=\"sk-label-container\"><div class=\"sk-label sk-toggleable\"><label>rf</label></div></div><div class=\"sk-serial\"><div class=\"sk-item\"><div class=\"sk-estimator sk-toggleable\"><input class=\"sk-toggleable__control sk-hidden--visually\" id=\"sk-estimator-id-27\" type=\"checkbox\" ><label for=\"sk-estimator-id-27\" class=\"sk-toggleable__label sk-toggleable__label-arrow\">RandomForestClassifier</label><div class=\"sk-toggleable__content\"><pre>RandomForestClassifier(n_estimators=50, random_state=1)</pre></div></div></div></div></div></div><div class=\"sk-parallel-item\"><div class=\"sk-item\"><div class=\"sk-label-container\"><div class=\"sk-label sk-toggleable\"><label>lr</label></div></div><div class=\"sk-serial\"><div class=\"sk-item\"><div class=\"sk-estimator sk-toggleable\"><input class=\"sk-toggleable__control sk-hidden--visually\" id=\"sk-estimator-id-28\" type=\"checkbox\" ><label for=\"sk-estimator-id-28\" class=\"sk-toggleable__label sk-toggleable__label-arrow\">LogisticRegression</label><div class=\"sk-toggleable__content\"><pre>LogisticRegression(random_state=1)</pre></div></div></div></div></div></div></div></div></div></div>"
      ],
      "text/plain": [
       "VotingClassifier(estimators=[('dt', DecisionTreeClassifier(max_depth=4)),\n",
       "                             ('rf',\n",
       "                              RandomForestClassifier(n_estimators=50,\n",
       "                                                     random_state=1)),\n",
       "                             ('lr', LogisticRegression(random_state=1))])"
      ]
     },
     "execution_count": 151,
     "metadata": {},
     "output_type": "execute_result"
    }
   ],
   "source": [
    "# Voting classifier\n",
    "ensemble_clf = Voter(\n",
    "    estimators=[(\"dt\", clf1), (\"rf\", clf2), (\"lr\", clf3)], voting=\"hard\"\n",
    ")\n",
    "\n",
    "# Fitting your voting classifier to the data (feature_matrix and target_matrix)\n",
    "ensemble_clf.fit(X, Y)\n"
   ]
  },
  {
   "cell_type": "code",
   "execution_count": 152,
   "id": "8f0ee8f0",
   "metadata": {},
   "outputs": [
    {
     "name": "stdout",
     "output_type": "stream",
     "text": [
      "['maize']\n"
     ]
    }
   ],
   "source": [
    "print(\n",
    "    ensemble_clf.predict(\n",
    "        [[60, 42, 23, 19.32666088, 68.03449300000001, 6.192360002999999, 84.22969177]]\n",
    "    )\n",
    ")\n"
   ]
  },
  {
   "attachments": {},
   "cell_type": "markdown",
   "id": "02948a52",
   "metadata": {},
   "source": [
    "## Checking accuracy of model using testing dataset (200 rows) after building the ensemble voter on training dataset (2000 rows)"
   ]
  },
  {
   "cell_type": "code",
   "execution_count": 153,
   "id": "7dcccaec",
   "metadata": {},
   "outputs": [
    {
     "data": {
      "text/html": [
       "<div>\n",
       "<style scoped>\n",
       "    .dataframe tbody tr th:only-of-type {\n",
       "        vertical-align: middle;\n",
       "    }\n",
       "\n",
       "    .dataframe tbody tr th {\n",
       "        vertical-align: top;\n",
       "    }\n",
       "\n",
       "    .dataframe thead th {\n",
       "        text-align: right;\n",
       "    }\n",
       "</style>\n",
       "<table border=\"1\" class=\"dataframe\">\n",
       "  <thead>\n",
       "    <tr style=\"text-align: right;\">\n",
       "      <th></th>\n",
       "      <th>N</th>\n",
       "      <th>P</th>\n",
       "      <th>K</th>\n",
       "      <th>temperature</th>\n",
       "      <th>humidity</th>\n",
       "      <th>ph</th>\n",
       "      <th>rainfall</th>\n",
       "      <th>label</th>\n",
       "    </tr>\n",
       "  </thead>\n",
       "  <tbody>\n",
       "    <tr>\n",
       "      <th>1980</th>\n",
       "      <td>31</td>\n",
       "      <td>20</td>\n",
       "      <td>26</td>\n",
       "      <td>25.565678</td>\n",
       "      <td>97.613615</td>\n",
       "      <td>6.443169</td>\n",
       "      <td>199.793634</td>\n",
       "      <td>coconut</td>\n",
       "    </tr>\n",
       "    <tr>\n",
       "      <th>1981</th>\n",
       "      <td>9</td>\n",
       "      <td>25</td>\n",
       "      <td>41</td>\n",
       "      <td>24.815301</td>\n",
       "      <td>91.908430</td>\n",
       "      <td>5.972715</td>\n",
       "      <td>109.285342</td>\n",
       "      <td>pomegranate</td>\n",
       "    </tr>\n",
       "    <tr>\n",
       "      <th>1982</th>\n",
       "      <td>4</td>\n",
       "      <td>20</td>\n",
       "      <td>41</td>\n",
       "      <td>24.266013</td>\n",
       "      <td>93.797406</td>\n",
       "      <td>6.537043</td>\n",
       "      <td>104.537511</td>\n",
       "      <td>pomegranate</td>\n",
       "    </tr>\n",
       "    <tr>\n",
       "      <th>1983</th>\n",
       "      <td>82</td>\n",
       "      <td>77</td>\n",
       "      <td>46</td>\n",
       "      <td>28.947047</td>\n",
       "      <td>82.188900</td>\n",
       "      <td>5.901101</td>\n",
       "      <td>95.830164</td>\n",
       "      <td>banana</td>\n",
       "    </tr>\n",
       "    <tr>\n",
       "      <th>1984</th>\n",
       "      <td>131</td>\n",
       "      <td>52</td>\n",
       "      <td>16</td>\n",
       "      <td>23.657241</td>\n",
       "      <td>84.476015</td>\n",
       "      <td>6.486068</td>\n",
       "      <td>88.544791</td>\n",
       "      <td>cotton</td>\n",
       "    </tr>\n",
       "  </tbody>\n",
       "</table>\n",
       "</div>"
      ],
      "text/plain": [
       "        N   P   K  temperature   humidity        ph    rainfall        label\n",
       "1980   31  20  26    25.565678  97.613615  6.443169  199.793634      coconut\n",
       "1981    9  25  41    24.815301  91.908430  5.972715  109.285342  pomegranate\n",
       "1982    4  20  41    24.266013  93.797406  6.537043  104.537511  pomegranate\n",
       "1983   82  77  46    28.947047  82.188900  5.901101   95.830164       banana\n",
       "1984  131  52  16    23.657241  84.476015  6.486068   88.544791       cotton"
      ]
     },
     "execution_count": 153,
     "metadata": {},
     "output_type": "execute_result"
    }
   ],
   "source": [
    "testing_df.head()\n"
   ]
  },
  {
   "cell_type": "code",
   "execution_count": 154,
   "id": "8fa7814b",
   "metadata": {},
   "outputs": [],
   "source": [
    "testing_df_matrix = []\n",
    "\n",
    "\n",
    "for i in range(len(testing_df[colnames[0]])):\n",
    "    _ = []\n",
    "\n",
    "    for feature_variable in feature_variables:\n",
    "        _str = testing_df.at[size_of_training + i, feature_variable]\n",
    "\n",
    "        val = int(_str) if int(_str) == float(_str) else float(_str)\n",
    "\n",
    "        _.append(val)\n",
    "    testing_df_matrix.append(_)"
   ]
  },
  {
   "cell_type": "code",
   "execution_count": 155,
   "id": "14407681",
   "metadata": {},
   "outputs": [
    {
     "name": "stdout",
     "output_type": "stream",
     "text": [
      "Accuracy is 98.182%\n"
     ]
    }
   ],
   "source": [
    "prediction_output = ensemble_clf.predict(testing_df_matrix)\n",
    "count = 0\n",
    "for i, output in enumerate(prediction_output):\n",
    "    if output == testing_df.at[size_of_training + i, \"label\"]:\n",
    "        count += 1\n",
    "print(f\"Accuracy is {round((count/(rownums - size_of_training))*100,3)}%\")\n"
   ]
  },
  {
   "attachments": {},
   "cell_type": "markdown",
   "id": "latin-twenty",
   "metadata": {
    "papermill": {
     "duration": 0.036403,
     "end_time": "2021-06-02T16:01:02.570095",
     "exception": false,
     "start_time": "2021-06-02T16:01:02.533692",
     "status": "completed"
    },
    "tags": []
   },
   "source": [
    "# Exploratory Data Analysis and Data Visualisation"
   ]
  },
  {
   "cell_type": "code",
   "execution_count": 129,
   "id": "37ff1d36",
   "metadata": {},
   "outputs": [],
   "source": [
    "# Necessary libraries for visualisation\n",
    "\n",
    "import seaborn\n",
    "import matplotlib.pyplot\n",
    "%matplotlib inline"
   ]
  },
  {
   "attachments": {},
   "cell_type": "markdown",
   "id": "8a1545ee",
   "metadata": {},
   "source": [
    "We can use a heatmap to check null/missing values"
   ]
  },
  {
   "cell_type": "code",
   "execution_count": 130,
   "id": "mental-poland",
   "metadata": {
    "execution": {
     "iopub.execute_input": "2021-06-02T16:01:02.648411Z",
     "iopub.status.busy": "2021-06-02T16:01:02.647750Z",
     "iopub.status.idle": "2021-06-02T16:01:03.068848Z",
     "shell.execute_reply": "2021-06-02T16:01:03.069378Z",
     "shell.execute_reply.started": "2021-05-27T17:18:53.778125Z"
    },
    "papermill": {
     "duration": 0.462123,
     "end_time": "2021-06-02T16:01:03.069593",
     "exception": false,
     "start_time": "2021-06-02T16:01:02.607470",
     "status": "completed"
    },
    "tags": []
   },
   "outputs": [
    {
     "data": {
      "image/png": "[encoded data removed]",
      "text/plain": [
       "<Figure size 640x480 with 2 Axes>"
      ]
     },
     "metadata": {},
     "output_type": "display_data"
    }
   ],
   "source": [
    "seaborn.heatmap(df.isnull(), cmap=\"coolwarm\")\n",
    "matplotlib.pyplot.show()\n"
   ]
  },
  {
   "attachments": {},
   "cell_type": "markdown",
   "id": "moral-division",
   "metadata": {
    "papermill": {
     "duration": 0.037831,
     "end_time": "2021-06-02T16:01:03.153228",
     "exception": false,
     "start_time": "2021-06-02T16:01:03.115397",
     "status": "completed"
    },
    "tags": []
   },
   "source": [
    "Let's have a closer look at the distribution of temperature and ph.\n",
    "    \n",
    "It is symmetrical and bell shaped, showing that trials will usually give a result near the average, but will occasionally deviate by large amounts. It's also fascinating how these two really resemble each other!"
   ]
  },
  {
   "cell_type": "code",
   "execution_count": 131,
   "id": "ordinary-johns",
   "metadata": {
    "execution": {
     "iopub.execute_input": "2021-06-02T16:01:03.231621Z",
     "iopub.status.busy": "2021-06-02T16:01:03.230968Z",
     "iopub.status.idle": "2021-06-02T16:01:03.611875Z",
     "shell.execute_reply": "2021-06-02T16:01:03.612349Z",
     "shell.execute_reply.started": "2021-05-27T17:18:54.230226Z"
    },
    "papermill": {
     "duration": 0.421299,
     "end_time": "2021-06-02T16:01:03.612537",
     "exception": false,
     "start_time": "2021-06-02T16:01:03.191238",
     "status": "completed"
    },
    "tags": []
   },
   "outputs": [
    {
     "data": {
      "text/plain": [
       "<Axes: xlabel='ph', ylabel='Density'>"
      ]
     },
     "execution_count": 131,
     "metadata": {},
     "output_type": "execute_result"
    },
    {
     "data": {
      "image/png": "[encoded data removed]",
      "text/plain": [
       "<Figure size 1200x500 with 2 Axes>"
      ]
     },
     "metadata": {},
     "output_type": "display_data"
    }
   ],
   "source": [
    "matplotlib.pyplot.figure(figsize=(12, 5))\n",
    "\n",
    "matplotlib.pyplot.subplot(1, 2, 1)\n",
    "# seaborn.distplot(df_setosa['sepal_length'],kde=True,color='green',bins=20,hist_kws={'alpha':0.3})\n",
    "\n",
    "seaborn.distplot(df[\"temperature\"], color=\"purple\", bins=15, hist_kws={\"alpha\": 0.2})\n",
    "\n",
    "matplotlib.pyplot.subplot(1, 2, 2)\n",
    "seaborn.distplot(df[\"ph\"], color=\"green\", bins=15, hist_kws={\"alpha\": 0.2})\n"
   ]
  },
  {
   "attachments": {},
   "cell_type": "markdown",
   "id": "unusual-memorial",
   "metadata": {
    "papermill": {
     "duration": 0.038923,
     "end_time": "2021-06-02T16:01:03.690358",
     "exception": false,
     "start_time": "2021-06-02T16:01:03.651435",
     "status": "completed"
    },
    "tags": []
   },
   "source": [
    "A quick check if the dataset is balanced or not.\n",
    "\n",
    "If it is imbalanced, we will need to  downsample targets which are more frequent."
   ]
  },
  {
   "cell_type": "code",
   "execution_count": 132,
   "id": "initial-yeast",
   "metadata": {
    "execution": {
     "iopub.execute_input": "2021-06-02T16:01:03.771702Z",
     "iopub.status.busy": "2021-06-02T16:01:03.771025Z",
     "iopub.status.idle": "2021-06-02T16:01:04.033293Z",
     "shell.execute_reply": "2021-06-02T16:01:04.033814Z",
     "shell.execute_reply.started": "2021-05-27T17:18:54.659934Z"
    },
    "papermill": {
     "duration": 0.304527,
     "end_time": "2021-06-02T16:01:04.033999",
     "exception": false,
     "start_time": "2021-06-02T16:01:03.729472",
     "status": "completed"
    },
    "tags": []
   },
   "outputs": [
    {
     "data": {
      "text/plain": [
       "<Axes: xlabel='count', ylabel='label'>"
      ]
     },
     "execution_count": 132,
     "metadata": {},
     "output_type": "execute_result"
    },
    {
     "data": {
      "image/png": "[encoded data removed]",
      "text/plain": [
       "<Figure size 640x480 with 1 Axes>"
      ]
     },
     "metadata": {},
     "output_type": "display_data"
    }
   ],
   "source": [
    "seaborn.countplot(y=\"label\", data=df, palette=\"plasma_r\")\n"
   ]
  },
  {
   "attachments": {},
   "cell_type": "markdown",
   "id": "3ebc8d5b",
   "metadata": {},
   "source": [
    "There does not seem to be an imbalance."
   ]
  },
  {
   "attachments": {},
   "cell_type": "markdown",
   "id": "equal-sunday",
   "metadata": {
    "execution": {
     "iopub.execute_input": "2021-05-26T16:06:33.590382Z",
     "iopub.status.busy": "2021-05-26T16:06:33.590018Z",
     "iopub.status.idle": "2021-05-26T16:06:33.596192Z",
     "shell.execute_reply": "2021-05-26T16:06:33.594924Z",
     "shell.execute_reply.started": "2021-05-26T16:06:33.590352Z"
    },
    "papermill": {
     "duration": 0.039657,
     "end_time": "2021-06-02T16:01:04.113765",
     "exception": false,
     "start_time": "2021-06-02T16:01:04.074108",
     "status": "completed"
    },
    "tags": []
   },
   "source": [
    "### Master plot to visualize the diagonal distribution between two features for all the combinations!"
   ]
  },
  {
   "attachments": {},
   "cell_type": "markdown",
   "id": "b0628cef",
   "metadata": {},
   "source": [
    "It is useful to help see how classes differ from each other in a particular space."
   ]
  },
  {
   "cell_type": "code",
   "execution_count": 133,
   "id": "expected-principle",
   "metadata": {
    "execution": {
     "iopub.execute_input": "2021-06-02T16:01:04.197599Z",
     "iopub.status.busy": "2021-06-02T16:01:04.196965Z",
     "iopub.status.idle": "2021-06-02T16:01:41.258035Z",
     "shell.execute_reply": "2021-06-02T16:01:41.258553Z",
     "shell.execute_reply.started": "2021-05-27T17:18:54.961864Z"
    },
    "papermill": {
     "duration": 37.105274,
     "end_time": "2021-06-02T16:01:41.258735",
     "exception": false,
     "start_time": "2021-06-02T16:01:04.153461",
     "status": "completed"
    },
    "tags": []
   },
   "outputs": [
    {
     "data": {
      "text/plain": [
       "<seaborn.axisgrid.PairGrid at 0x2792d428a90>"
      ]
     },
     "execution_count": 133,
     "metadata": {},
     "output_type": "execute_result"
    },
    {
     "name": "stdout",
     "output_type": "stream",
     "text": [
      "Error in callback <function _draw_all_if_interactive at 0x000002792D156980> (for post_execute):\n"
     ]
    },
    {
     "ename": "KeyboardInterrupt",
     "evalue": "",
     "output_type": "error",
     "traceback": [
      "\u001b[1;31m---------------------------------------------------------------------------\u001b[0m",
      "\u001b[1;31mKeyboardInterrupt\u001b[0m                         Traceback (most recent call last)",
      "File \u001b[1;32mc:\\Users\\V\\.virtualenvs\\Machine_Learning-NXN-BPO0\\Lib\\site-packages\\matplotlib\\pyplot.py:120\u001b[0m, in \u001b[0;36m_draw_all_if_interactive\u001b[1;34m()\u001b[0m\n\u001b[0;32m    118\u001b[0m \u001b[39mdef\u001b[39;00m \u001b[39m_draw_all_if_interactive\u001b[39m():\n\u001b[0;32m    119\u001b[0m     \u001b[39mif\u001b[39;00m matplotlib\u001b[39m.\u001b[39mis_interactive():\n\u001b[1;32m--> 120\u001b[0m         draw_all()\n",
      "File \u001b[1;32mc:\\Users\\V\\.virtualenvs\\Machine_Learning-NXN-BPO0\\Lib\\site-packages\\matplotlib\\_pylab_helpers.py:132\u001b[0m, in \u001b[0;36mGcf.draw_all\u001b[1;34m(cls, force)\u001b[0m\n\u001b[0;32m    130\u001b[0m \u001b[39mfor\u001b[39;00m manager \u001b[39min\u001b[39;00m \u001b[39mcls\u001b[39m\u001b[39m.\u001b[39mget_all_fig_managers():\n\u001b[0;32m    131\u001b[0m     \u001b[39mif\u001b[39;00m force \u001b[39mor\u001b[39;00m manager\u001b[39m.\u001b[39mcanvas\u001b[39m.\u001b[39mfigure\u001b[39m.\u001b[39mstale:\n\u001b[1;32m--> 132\u001b[0m         manager\u001b[39m.\u001b[39;49mcanvas\u001b[39m.\u001b[39;49mdraw_idle()\n",
      "File \u001b[1;32mc:\\Users\\V\\.virtualenvs\\Machine_Learning-NXN-BPO0\\Lib\\site-packages\\matplotlib\\backend_bases.py:2078\u001b[0m, in \u001b[0;36mFigureCanvasBase.draw_idle\u001b[1;34m(self, *args, **kwargs)\u001b[0m\n\u001b[0;32m   2076\u001b[0m \u001b[39mif\u001b[39;00m \u001b[39mnot\u001b[39;00m \u001b[39mself\u001b[39m\u001b[39m.\u001b[39m_is_idle_drawing:\n\u001b[0;32m   2077\u001b[0m     \u001b[39mwith\u001b[39;00m \u001b[39mself\u001b[39m\u001b[39m.\u001b[39m_idle_draw_cntx():\n\u001b[1;32m-> 2078\u001b[0m         \u001b[39mself\u001b[39;49m\u001b[39m.\u001b[39;49mdraw(\u001b[39m*\u001b[39;49margs, \u001b[39m*\u001b[39;49m\u001b[39m*\u001b[39;49mkwargs)\n",
      "File \u001b[1;32mc:\\Users\\V\\.virtualenvs\\Machine_Learning-NXN-BPO0\\Lib\\site-packages\\matplotlib\\backends\\backend_agg.py:400\u001b[0m, in \u001b[0;36mFigureCanvasAgg.draw\u001b[1;34m(self)\u001b[0m\n\u001b[0;32m    396\u001b[0m \u001b[39m# Acquire a lock on the shared font cache.\u001b[39;00m\n\u001b[0;32m    397\u001b[0m \u001b[39mwith\u001b[39;00m RendererAgg\u001b[39m.\u001b[39mlock, \\\n\u001b[0;32m    398\u001b[0m      (\u001b[39mself\u001b[39m\u001b[39m.\u001b[39mtoolbar\u001b[39m.\u001b[39m_wait_cursor_for_draw_cm() \u001b[39mif\u001b[39;00m \u001b[39mself\u001b[39m\u001b[39m.\u001b[39mtoolbar\n\u001b[0;32m    399\u001b[0m       \u001b[39melse\u001b[39;00m nullcontext()):\n\u001b[1;32m--> 400\u001b[0m     \u001b[39mself\u001b[39;49m\u001b[39m.\u001b[39;49mfigure\u001b[39m.\u001b[39;49mdraw(\u001b[39mself\u001b[39;49m\u001b[39m.\u001b[39;49mrenderer)\n\u001b[0;32m    401\u001b[0m     \u001b[39m# A GUI class may be need to update a window using this draw, so\u001b[39;00m\n\u001b[0;32m    402\u001b[0m     \u001b[39m# don't forget to call the superclass.\u001b[39;00m\n\u001b[0;32m    403\u001b[0m     \u001b[39msuper\u001b[39m()\u001b[39m.\u001b[39mdraw()\n",
      "File \u001b[1;32mc:\\Users\\V\\.virtualenvs\\Machine_Learning-NXN-BPO0\\Lib\\site-packages\\matplotlib\\artist.py:95\u001b[0m, in \u001b[0;36m_finalize_rasterization.<locals>.draw_wrapper\u001b[1;34m(artist, renderer, *args, **kwargs)\u001b[0m\n\u001b[0;32m     93\u001b[0m \u001b[39m@wraps\u001b[39m(draw)\n\u001b[0;32m     94\u001b[0m \u001b[39mdef\u001b[39;00m \u001b[39mdraw_wrapper\u001b[39m(artist, renderer, \u001b[39m*\u001b[39margs, \u001b[39m*\u001b[39m\u001b[39m*\u001b[39mkwargs):\n\u001b[1;32m---> 95\u001b[0m     result \u001b[39m=\u001b[39m draw(artist, renderer, \u001b[39m*\u001b[39;49margs, \u001b[39m*\u001b[39;49m\u001b[39m*\u001b[39;49mkwargs)\n\u001b[0;32m     96\u001b[0m     \u001b[39mif\u001b[39;00m renderer\u001b[39m.\u001b[39m_rasterizing:\n\u001b[0;32m     97\u001b[0m         renderer\u001b[39m.\u001b[39mstop_rasterizing()\n",
      "File \u001b[1;32mc:\\Users\\V\\.virtualenvs\\Machine_Learning-NXN-BPO0\\Lib\\site-packages\\matplotlib\\artist.py:72\u001b[0m, in \u001b[0;36mallow_rasterization.<locals>.draw_wrapper\u001b[1;34m(artist, renderer)\u001b[0m\n\u001b[0;32m     69\u001b[0m     \u001b[39mif\u001b[39;00m artist\u001b[39m.\u001b[39mget_agg_filter() \u001b[39mis\u001b[39;00m \u001b[39mnot\u001b[39;00m \u001b[39mNone\u001b[39;00m:\n\u001b[0;32m     70\u001b[0m         renderer\u001b[39m.\u001b[39mstart_filter()\n\u001b[1;32m---> 72\u001b[0m     \u001b[39mreturn\u001b[39;00m draw(artist, renderer)\n\u001b[0;32m     73\u001b[0m \u001b[39mfinally\u001b[39;00m:\n\u001b[0;32m     74\u001b[0m     \u001b[39mif\u001b[39;00m artist\u001b[39m.\u001b[39mget_agg_filter() \u001b[39mis\u001b[39;00m \u001b[39mnot\u001b[39;00m \u001b[39mNone\u001b[39;00m:\n",
      "File \u001b[1;32mc:\\Users\\V\\.virtualenvs\\Machine_Learning-NXN-BPO0\\Lib\\site-packages\\matplotlib\\figure.py:3125\u001b[0m, in \u001b[0;36mFigure.draw\u001b[1;34m(self, renderer)\u001b[0m\n\u001b[0;32m   3122\u001b[0m         \u001b[39m# ValueError can occur when resizing a window.\u001b[39;00m\n\u001b[0;32m   3124\u001b[0m \u001b[39mself\u001b[39m\u001b[39m.\u001b[39mpatch\u001b[39m.\u001b[39mdraw(renderer)\n\u001b[1;32m-> 3125\u001b[0m mimage\u001b[39m.\u001b[39;49m_draw_list_compositing_images(\n\u001b[0;32m   3126\u001b[0m     renderer, \u001b[39mself\u001b[39;49m, artists, \u001b[39mself\u001b[39;49m\u001b[39m.\u001b[39;49msuppressComposite)\n\u001b[0;32m   3128\u001b[0m \u001b[39mfor\u001b[39;00m sfig \u001b[39min\u001b[39;00m \u001b[39mself\u001b[39m\u001b[39m.\u001b[39msubfigs:\n\u001b[0;32m   3129\u001b[0m     sfig\u001b[39m.\u001b[39mdraw(renderer)\n",
      "File \u001b[1;32mc:\\Users\\V\\.virtualenvs\\Machine_Learning-NXN-BPO0\\Lib\\site-packages\\matplotlib\\image.py:131\u001b[0m, in \u001b[0;36m_draw_list_compositing_images\u001b[1;34m(renderer, parent, artists, suppress_composite)\u001b[0m\n\u001b[0;32m    129\u001b[0m \u001b[39mif\u001b[39;00m not_composite \u001b[39mor\u001b[39;00m \u001b[39mnot\u001b[39;00m has_images:\n\u001b[0;32m    130\u001b[0m     \u001b[39mfor\u001b[39;00m a \u001b[39min\u001b[39;00m artists:\n\u001b[1;32m--> 131\u001b[0m         a\u001b[39m.\u001b[39;49mdraw(renderer)\n\u001b[0;32m    132\u001b[0m \u001b[39melse\u001b[39;00m:\n\u001b[0;32m    133\u001b[0m     \u001b[39m# Composite any adjacent images together\u001b[39;00m\n\u001b[0;32m    134\u001b[0m     image_group \u001b[39m=\u001b[39m []\n",
      "File \u001b[1;32mc:\\Users\\V\\.virtualenvs\\Machine_Learning-NXN-BPO0\\Lib\\site-packages\\matplotlib\\artist.py:72\u001b[0m, in \u001b[0;36mallow_rasterization.<locals>.draw_wrapper\u001b[1;34m(artist, renderer)\u001b[0m\n\u001b[0;32m     69\u001b[0m     \u001b[39mif\u001b[39;00m artist\u001b[39m.\u001b[39mget_agg_filter() \u001b[39mis\u001b[39;00m \u001b[39mnot\u001b[39;00m \u001b[39mNone\u001b[39;00m:\n\u001b[0;32m     70\u001b[0m         renderer\u001b[39m.\u001b[39mstart_filter()\n\u001b[1;32m---> 72\u001b[0m     \u001b[39mreturn\u001b[39;00m draw(artist, renderer)\n\u001b[0;32m     73\u001b[0m \u001b[39mfinally\u001b[39;00m:\n\u001b[0;32m     74\u001b[0m     \u001b[39mif\u001b[39;00m artist\u001b[39m.\u001b[39mget_agg_filter() \u001b[39mis\u001b[39;00m \u001b[39mnot\u001b[39;00m \u001b[39mNone\u001b[39;00m:\n",
      "File \u001b[1;32mc:\\Users\\V\\.virtualenvs\\Machine_Learning-NXN-BPO0\\Lib\\site-packages\\matplotlib\\axes\\_base.py:3066\u001b[0m, in \u001b[0;36m_AxesBase.draw\u001b[1;34m(self, renderer)\u001b[0m\n\u001b[0;32m   3063\u001b[0m \u001b[39mif\u001b[39;00m artists_rasterized:\n\u001b[0;32m   3064\u001b[0m     _draw_rasterized(\u001b[39mself\u001b[39m\u001b[39m.\u001b[39mfigure, artists_rasterized, renderer)\n\u001b[1;32m-> 3066\u001b[0m mimage\u001b[39m.\u001b[39;49m_draw_list_compositing_images(\n\u001b[0;32m   3067\u001b[0m     renderer, \u001b[39mself\u001b[39;49m, artists, \u001b[39mself\u001b[39;49m\u001b[39m.\u001b[39;49mfigure\u001b[39m.\u001b[39;49msuppressComposite)\n\u001b[0;32m   3069\u001b[0m renderer\u001b[39m.\u001b[39mclose_group(\u001b[39m'\u001b[39m\u001b[39maxes\u001b[39m\u001b[39m'\u001b[39m)\n\u001b[0;32m   3070\u001b[0m \u001b[39mself\u001b[39m\u001b[39m.\u001b[39mstale \u001b[39m=\u001b[39m \u001b[39mFalse\u001b[39;00m\n",
      "File \u001b[1;32mc:\\Users\\V\\.virtualenvs\\Machine_Learning-NXN-BPO0\\Lib\\site-packages\\matplotlib\\image.py:131\u001b[0m, in \u001b[0;36m_draw_list_compositing_images\u001b[1;34m(renderer, parent, artists, suppress_composite)\u001b[0m\n\u001b[0;32m    129\u001b[0m \u001b[39mif\u001b[39;00m not_composite \u001b[39mor\u001b[39;00m \u001b[39mnot\u001b[39;00m has_images:\n\u001b[0;32m    130\u001b[0m     \u001b[39mfor\u001b[39;00m a \u001b[39min\u001b[39;00m artists:\n\u001b[1;32m--> 131\u001b[0m         a\u001b[39m.\u001b[39;49mdraw(renderer)\n\u001b[0;32m    132\u001b[0m \u001b[39melse\u001b[39;00m:\n\u001b[0;32m    133\u001b[0m     \u001b[39m# Composite any adjacent images together\u001b[39;00m\n\u001b[0;32m    134\u001b[0m     image_group \u001b[39m=\u001b[39m []\n",
      "File \u001b[1;32mc:\\Users\\V\\.virtualenvs\\Machine_Learning-NXN-BPO0\\Lib\\site-packages\\matplotlib\\artist.py:72\u001b[0m, in \u001b[0;36mallow_rasterization.<locals>.draw_wrapper\u001b[1;34m(artist, renderer)\u001b[0m\n\u001b[0;32m     69\u001b[0m     \u001b[39mif\u001b[39;00m artist\u001b[39m.\u001b[39mget_agg_filter() \u001b[39mis\u001b[39;00m \u001b[39mnot\u001b[39;00m \u001b[39mNone\u001b[39;00m:\n\u001b[0;32m     70\u001b[0m         renderer\u001b[39m.\u001b[39mstart_filter()\n\u001b[1;32m---> 72\u001b[0m     \u001b[39mreturn\u001b[39;00m draw(artist, renderer)\n\u001b[0;32m     73\u001b[0m \u001b[39mfinally\u001b[39;00m:\n\u001b[0;32m     74\u001b[0m     \u001b[39mif\u001b[39;00m artist\u001b[39m.\u001b[39mget_agg_filter() \u001b[39mis\u001b[39;00m \u001b[39mnot\u001b[39;00m \u001b[39mNone\u001b[39;00m:\n",
      "File \u001b[1;32mc:\\Users\\V\\.virtualenvs\\Machine_Learning-NXN-BPO0\\Lib\\site-packages\\matplotlib\\collections.py:972\u001b[0m, in \u001b[0;36m_CollectionWithSizes.draw\u001b[1;34m(self, renderer)\u001b[0m\n\u001b[0;32m    969\u001b[0m \u001b[39m@artist\u001b[39m\u001b[39m.\u001b[39mallow_rasterization\n\u001b[0;32m    970\u001b[0m \u001b[39mdef\u001b[39;00m \u001b[39mdraw\u001b[39m(\u001b[39mself\u001b[39m, renderer):\n\u001b[0;32m    971\u001b[0m     \u001b[39mself\u001b[39m\u001b[39m.\u001b[39mset_sizes(\u001b[39mself\u001b[39m\u001b[39m.\u001b[39m_sizes, \u001b[39mself\u001b[39m\u001b[39m.\u001b[39mfigure\u001b[39m.\u001b[39mdpi)\n\u001b[1;32m--> 972\u001b[0m     \u001b[39msuper\u001b[39;49m()\u001b[39m.\u001b[39;49mdraw(renderer)\n",
      "File \u001b[1;32mc:\\Users\\V\\.virtualenvs\\Machine_Learning-NXN-BPO0\\Lib\\site-packages\\matplotlib\\artist.py:72\u001b[0m, in \u001b[0;36mallow_rasterization.<locals>.draw_wrapper\u001b[1;34m(artist, renderer)\u001b[0m\n\u001b[0;32m     69\u001b[0m     \u001b[39mif\u001b[39;00m artist\u001b[39m.\u001b[39mget_agg_filter() \u001b[39mis\u001b[39;00m \u001b[39mnot\u001b[39;00m \u001b[39mNone\u001b[39;00m:\n\u001b[0;32m     70\u001b[0m         renderer\u001b[39m.\u001b[39mstart_filter()\n\u001b[1;32m---> 72\u001b[0m     \u001b[39mreturn\u001b[39;00m draw(artist, renderer)\n\u001b[0;32m     73\u001b[0m \u001b[39mfinally\u001b[39;00m:\n\u001b[0;32m     74\u001b[0m     \u001b[39mif\u001b[39;00m artist\u001b[39m.\u001b[39mget_agg_filter() \u001b[39mis\u001b[39;00m \u001b[39mnot\u001b[39;00m \u001b[39mNone\u001b[39;00m:\n",
      "File \u001b[1;32mc:\\Users\\V\\.virtualenvs\\Machine_Learning-NXN-BPO0\\Lib\\site-packages\\matplotlib\\collections.py:405\u001b[0m, in \u001b[0;36mCollection.draw\u001b[1;34m(self, renderer)\u001b[0m\n\u001b[0;32m    403\u001b[0m     gc\u001b[39m.\u001b[39mset_antialiased(\u001b[39mself\u001b[39m\u001b[39m.\u001b[39m_antialiaseds[\u001b[39m0\u001b[39m])\n\u001b[0;32m    404\u001b[0m     gc\u001b[39m.\u001b[39mset_url(\u001b[39mself\u001b[39m\u001b[39m.\u001b[39m_urls[\u001b[39m0\u001b[39m])\n\u001b[1;32m--> 405\u001b[0m     renderer\u001b[39m.\u001b[39;49mdraw_markers(\n\u001b[0;32m    406\u001b[0m         gc, paths[\u001b[39m0\u001b[39;49m], combined_transform\u001b[39m.\u001b[39;49mfrozen(),\n\u001b[0;32m    407\u001b[0m         mpath\u001b[39m.\u001b[39;49mPath(offsets), offset_trf, \u001b[39mtuple\u001b[39;49m(facecolors[\u001b[39m0\u001b[39;49m]))\n\u001b[0;32m    408\u001b[0m \u001b[39melse\u001b[39;00m:\n\u001b[0;32m    409\u001b[0m     renderer\u001b[39m.\u001b[39mdraw_path_collection(\n\u001b[0;32m    410\u001b[0m         gc, transform\u001b[39m.\u001b[39mfrozen(), paths,\n\u001b[0;32m    411\u001b[0m         \u001b[39mself\u001b[39m\u001b[39m.\u001b[39mget_transforms(), offsets, offset_trf,\n\u001b[1;32m   (...)\u001b[0m\n\u001b[0;32m    414\u001b[0m         \u001b[39mself\u001b[39m\u001b[39m.\u001b[39m_antialiaseds, \u001b[39mself\u001b[39m\u001b[39m.\u001b[39m_urls,\n\u001b[0;32m    415\u001b[0m         \u001b[39m\"\u001b[39m\u001b[39mscreen\u001b[39m\u001b[39m\"\u001b[39m)  \u001b[39m# offset_position, kept for backcompat.\u001b[39;00m\n",
      "File \u001b[1;32mc:\\Users\\V\\.virtualenvs\\Machine_Learning-NXN-BPO0\\Lib\\site-packages\\matplotlib\\transforms.py:1465\u001b[0m, in \u001b[0;36mTransform.__array__\u001b[1;34m(self, *args, **kwargs)\u001b[0m\n\u001b[0;32m   1463\u001b[0m \u001b[39mdef\u001b[39;00m \u001b[39m__array__\u001b[39m(\u001b[39mself\u001b[39m, \u001b[39m*\u001b[39margs, \u001b[39m*\u001b[39m\u001b[39m*\u001b[39mkwargs):\n\u001b[0;32m   1464\u001b[0m \u001b[39m    \u001b[39m\u001b[39m\"\"\"Array interface to get at this Transform's affine matrix.\"\"\"\u001b[39;00m\n\u001b[1;32m-> 1465\u001b[0m     \u001b[39mreturn\u001b[39;00m \u001b[39mself\u001b[39;49m\u001b[39m.\u001b[39;49mget_affine()\u001b[39m.\u001b[39mget_matrix()\n",
      "File \u001b[1;32mc:\\Users\\V\\.virtualenvs\\Machine_Learning-NXN-BPO0\\Lib\\site-packages\\matplotlib\\transforms.py:2441\u001b[0m, in \u001b[0;36mCompositeGenericTransform.get_affine\u001b[1;34m(self)\u001b[0m\n\u001b[0;32m   2439\u001b[0m     \u001b[39mreturn\u001b[39;00m \u001b[39mself\u001b[39m\u001b[39m.\u001b[39m_b\u001b[39m.\u001b[39mget_affine()\n\u001b[0;32m   2440\u001b[0m \u001b[39melse\u001b[39;00m:\n\u001b[1;32m-> 2441\u001b[0m     \u001b[39mreturn\u001b[39;00m Affine2D(np\u001b[39m.\u001b[39;49mdot(\u001b[39mself\u001b[39;49m\u001b[39m.\u001b[39;49m_b\u001b[39m.\u001b[39;49mget_affine()\u001b[39m.\u001b[39;49mget_matrix(),\n\u001b[0;32m   2442\u001b[0m                            \u001b[39mself\u001b[39;49m\u001b[39m.\u001b[39;49m_a\u001b[39m.\u001b[39;49mget_affine()\u001b[39m.\u001b[39;49mget_matrix()))\n",
      "File \u001b[1;32m<__array_function__ internals>:180\u001b[0m, in \u001b[0;36mdot\u001b[1;34m(*args, **kwargs)\u001b[0m\n",
      "\u001b[1;31mKeyboardInterrupt\u001b[0m: "
     ]
    }
   ],
   "source": [
    "seaborn.pairplot(df, hue=\"label\")\n"
   ]
  },
  {
   "attachments": {},
   "cell_type": "markdown",
   "id": "contrary-drive",
   "metadata": {
    "papermill": {
     "duration": 0.070675,
     "end_time": "2021-06-02T16:01:41.400258",
     "exception": false,
     "start_time": "2021-06-02T16:01:41.329583",
     "status": "completed"
    },
    "tags": []
   },
   "source": [
    "When it rains, average rainfall is high  and temperature is mildly chill (less than 30'C).\n",
    "\n",
    "Rain affects soil moisture which affects ph of the soil. Here are the crops which are likely to be planted during this season.\n",
    "\n",
    "Rice needs <b> heavy rainfall (>200 mm)</b> and a <b>humidity above 80%</b>.\n",
    "\n",
    "Coconut is a tropical crop. It needs high humidity therefore explaining massive exports from areas like Kerala and Tamil Nadu, which are few coastal areas around the country."
   ]
  },
  {
   "cell_type": "code",
   "execution_count": null,
   "id": "equipped-timeline",
   "metadata": {
    "execution": {
     "iopub.execute_input": "2021-06-02T16:01:41.546621Z",
     "iopub.status.busy": "2021-06-02T16:01:41.545551Z",
     "iopub.status.idle": "2021-06-02T16:01:42.466762Z",
     "shell.execute_reply": "2021-06-02T16:01:42.466170Z",
     "shell.execute_reply.started": "2021-05-27T17:19:36.582995Z"
    },
    "papermill": {
     "duration": 0.99531,
     "end_time": "2021-06-02T16:01:42.466916",
     "exception": false,
     "start_time": "2021-06-02T16:01:41.471606",
     "status": "completed"
    },
    "tags": []
   },
   "outputs": [],
   "source": [
    "seaborn.jointplot(\n",
    "    x=\"rainfall\",\n",
    "    y=\"humidity\",\n",
    "    data=df[(df[\"temperature\"] < 30) & (df[\"rainfall\"] > 120)],\n",
    "    hue=\"label\",\n",
    ")\n"
   ]
  },
  {
   "attachments": {},
   "cell_type": "markdown",
   "id": "moderate-block",
   "metadata": {
    "papermill": {
     "duration": 0.073404,
     "end_time": "2021-06-02T16:01:42.614303",
     "exception": false,
     "start_time": "2021-06-02T16:01:42.540899",
     "status": "completed"
    },
    "tags": []
   },
   "source": [
    "This graph shows average values of both potassium (K) and nitrogen (N) (>50).\n",
    "\n",
    "Fruits which have high nutrients typically has consistent potassium values."
   ]
  },
  {
   "cell_type": "code",
   "execution_count": null,
   "id": "dental-mistake",
   "metadata": {
    "execution": {
     "iopub.execute_input": "2021-06-02T16:01:42.823346Z",
     "iopub.status.busy": "2021-06-02T16:01:42.796886Z",
     "iopub.status.idle": "2021-06-02T16:01:43.445699Z",
     "shell.execute_reply": "2021-06-02T16:01:43.446183Z",
     "shell.execute_reply.started": "2021-05-27T17:19:37.594996Z"
    },
    "papermill": {
     "duration": 0.757535,
     "end_time": "2021-06-02T16:01:43.446364",
     "exception": false,
     "start_time": "2021-06-02T16:01:42.688829",
     "status": "completed"
    },
    "tags": []
   },
   "outputs": [],
   "source": [
    "seaborn.jointplot(x=\"K\", y=\"N\", data=df[(df[\"N\"] > 40) & (df[\"K\"] > 40)], hue=\"label\")\n"
   ]
  },
  {
   "attachments": {},
   "cell_type": "markdown",
   "id": "different-climb",
   "metadata": {
    "papermill": {
     "duration": 0.075556,
     "end_time": "2021-06-02T16:01:43.598908",
     "exception": false,
     "start_time": "2021-06-02T16:01:43.523352",
     "status": "completed"
    },
    "tags": []
   },
   "source": [
    "Pairplot between `humidity` and `K` (potassium levels in the soil.)\n",
    "\n",
    "Using `seaborn.jointplot()` for bivariate analysis, we plot `humidity` and `K` levels based on Label type.\n",
    "\n",
    "It further generates frequency distribution of classes with respect to features"
   ]
  },
  {
   "cell_type": "code",
   "execution_count": null,
   "id": "violent-contractor",
   "metadata": {
    "execution": {
     "iopub.execute_input": "2021-06-02T16:01:43.810803Z",
     "iopub.status.busy": "2021-06-02T16:01:43.803273Z",
     "iopub.status.idle": "2021-06-02T16:01:45.123098Z",
     "shell.execute_reply": "2021-06-02T16:01:45.123583Z",
     "shell.execute_reply.started": "2021-05-27T17:19:38.367992Z"
    },
    "papermill": {
     "duration": 1.449974,
     "end_time": "2021-06-02T16:01:45.123750",
     "exception": false,
     "start_time": "2021-06-02T16:01:43.673776",
     "status": "completed"
    },
    "tags": []
   },
   "outputs": [],
   "source": [
    "seaborn.jointplot(x=\"K\", y=\"humidity\", data=df, hue=\"label\", size=8, s=30, alpha=0.7)\n"
   ]
  },
  {
   "cell_type": "code",
   "execution_count": null,
   "id": "social-spanking",
   "metadata": {
    "execution": {
     "iopub.execute_input": "2021-06-02T16:01:45.443644Z",
     "iopub.status.busy": "2021-06-02T16:01:45.442988Z",
     "iopub.status.idle": "2021-06-02T16:01:45.947606Z",
     "shell.execute_reply": "2021-06-02T16:01:45.947059Z",
     "shell.execute_reply.started": "2021-05-27T17:19:39.899118Z"
    },
    "papermill": {
     "duration": 0.590324,
     "end_time": "2021-06-02T16:01:45.947744",
     "exception": false,
     "start_time": "2021-06-02T16:01:45.357420",
     "status": "completed"
    },
    "tags": []
   },
   "outputs": [],
   "source": [
    "seaborn.boxplot(y=\"label\", x=\"ph\", data=df)\n"
   ]
  },
  {
   "attachments": {},
   "cell_type": "markdown",
   "id": "tight-malaysia",
   "metadata": {
    "papermill": {
     "duration": 0.077431,
     "end_time": "2021-06-02T16:01:45.280014",
     "exception": false,
     "start_time": "2021-06-02T16:01:45.202583",
     "status": "completed"
    },
    "tags": []
   },
   "source": [
    "As visible, `ph` values are critical when it comes to soil. A stability between 6 and 7 is preffered"
   ]
  },
  {
   "cell_type": "code",
   "execution_count": null,
   "id": "center-mercy",
   "metadata": {
    "execution": {
     "iopub.execute_input": "2021-06-02T16:01:46.328353Z",
     "iopub.status.busy": "2021-06-02T16:01:46.309292Z",
     "iopub.status.idle": "2021-06-02T16:01:46.498653Z",
     "shell.execute_reply": "2021-06-02T16:01:46.498015Z",
     "shell.execute_reply.started": "2021-05-27T17:19:40.46782Z"
    },
    "papermill": {
     "duration": 0.311645,
     "end_time": "2021-06-02T16:01:46.498789",
     "exception": false,
     "start_time": "2021-06-02T16:01:46.187144",
     "status": "completed"
    },
    "tags": []
   },
   "outputs": [],
   "source": [
    "seaborn.boxplot(y=\"label\", x=\"P\", data=df[df[\"rainfall\"] > 150])\n"
   ]
  },
  {
   "attachments": {},
   "cell_type": "markdown",
   "id": "5c1d81f2",
   "metadata": {},
   "source": [
    "One thing we found during our exploratory analysis stage is that the Phosphorous (`P`) levels are quite differentiable when it rains heavily (above 150 mm)."
   ]
  },
  {
   "cell_type": "markdown",
   "id": "suffering-nursing",
   "metadata": {
    "execution": {
     "iopub.execute_input": "2021-05-27T04:09:14.720949Z",
     "iopub.status.busy": "2021-05-27T04:09:14.720513Z",
     "iopub.status.idle": "2021-05-27T04:09:14.72936Z",
     "shell.execute_reply": "2021-05-27T04:09:14.727764Z",
     "shell.execute_reply.started": "2021-05-27T04:09:14.720912Z"
    },
    "papermill": {
     "duration": 0.079834,
     "end_time": "2021-06-02T16:01:46.658706",
     "exception": false,
     "start_time": "2021-06-02T16:01:46.578872",
     "status": "completed"
    },
    "tags": []
   },
   "source": [
    "#### Further analyzing phosphorous levels.\n",
    "\n",
    "When humidity is less than 65, almost same phosphor levels(approx 14 to 25) are required for 6 crops which could be grown just based on the amount of rain expected over the next few weeks."
   ]
  },
  {
   "cell_type": "code",
   "execution_count": null,
   "id": "particular-exchange",
   "metadata": {
    "execution": {
     "iopub.execute_input": "2021-06-02T16:01:46.849181Z",
     "iopub.status.busy": "2021-06-02T16:01:46.834424Z",
     "iopub.status.idle": "2021-06-02T16:01:50.031607Z",
     "shell.execute_reply": "2021-06-02T16:01:50.032052Z",
     "shell.execute_reply.started": "2021-05-27T17:19:40.719561Z"
    },
    "papermill": {
     "duration": 3.293705,
     "end_time": "2021-06-02T16:01:50.032224",
     "exception": false,
     "start_time": "2021-06-02T16:01:46.738519",
     "status": "completed"
    },
    "tags": []
   },
   "outputs": [],
   "source": [
    "seaborn.lineplot(data=df[(df[\"humidity\"] < 65)], x=\"K\", y=\"rainfall\", hue=\"label\")\n"
   ]
  },
  {
   "attachments": {},
   "cell_type": "markdown",
   "id": "opposite-enlargement",
   "metadata": {
    "papermill": {
     "duration": 0.083311,
     "end_time": "2021-06-02T16:01:50.200805",
     "exception": false,
     "start_time": "2021-06-02T16:01:50.117494",
     "status": "completed"
    },
    "tags": []
   },
   "source": [
    "# Pre-processing for ML Model"
   ]
  },
  {
   "cell_type": "code",
   "execution_count": null,
   "id": "sustained-tobago",
   "metadata": {
    "execution": {
     "iopub.execute_input": "2021-06-02T16:01:50.370943Z",
     "iopub.status.busy": "2021-06-02T16:01:50.370264Z",
     "iopub.status.idle": "2021-06-02T16:01:50.377938Z",
     "shell.execute_reply": "2021-06-02T16:01:50.378461Z",
     "shell.execute_reply.started": "2021-05-27T17:19:44.262645Z"
    },
    "papermill": {
     "duration": 0.094351,
     "end_time": "2021-06-02T16:01:50.378662",
     "exception": false,
     "start_time": "2021-06-02T16:01:50.284311",
     "status": "completed"
    },
    "tags": []
   },
   "outputs": [],
   "source": [
    "c = df.label.astype(\"category\")\n",
    "targets = dict(enumerate(c.cat.categories))\n",
    "df[\"target\"] = c.cat.codes\n",
    "\n",
    "y = df.target\n",
    "X = df[[\"N\", \"P\", \"K\", \"temperature\", \"humidity\", \"ph\", \"rainfall\"]]\n"
   ]
  },
  {
   "cell_type": "markdown",
   "id": "absent-actress",
   "metadata": {
    "papermill": {
     "duration": 0.083599,
     "end_time": "2021-06-02T16:01:50.546486",
     "exception": false,
     "start_time": "2021-06-02T16:01:50.462887",
     "status": "completed"
    },
    "tags": []
   },
   "source": [
    "**Correlation visualization between features. We can see how Phosphorous levels and Potassium levels are highly correlated.**"
   ]
  },
  {
   "cell_type": "code",
   "execution_count": null,
   "id": "threaded-transport",
   "metadata": {
    "execution": {
     "iopub.execute_input": "2021-06-02T16:01:50.717661Z",
     "iopub.status.busy": "2021-06-02T16:01:50.716992Z",
     "iopub.status.idle": "2021-06-02T16:01:50.983010Z",
     "shell.execute_reply": "2021-06-02T16:01:50.982175Z",
     "shell.execute_reply.started": "2021-05-27T17:19:44.274437Z"
    },
    "papermill": {
     "duration": 0.352768,
     "end_time": "2021-06-02T16:01:50.983189",
     "exception": false,
     "start_time": "2021-06-02T16:01:50.630421",
     "status": "completed"
    },
    "tags": []
   },
   "outputs": [],
   "source": [
    "seaborn.heatmap(X.corr())\n"
   ]
  },
  {
   "cell_type": "markdown",
   "id": "fossil-appraisal",
   "metadata": {
    "papermill": {
     "duration": 0.085994,
     "end_time": "2021-06-02T16:01:51.155445",
     "exception": false,
     "start_time": "2021-06-02T16:01:51.069451",
     "status": "completed"
    },
    "tags": []
   },
   "source": [
    "# FEATURE SCALING\n",
    "**Feature scaling is required before creating training data and feeding it to the model.**\n",
    "\n",
    "As we saw earlier, two of our features (temperature and ph) are gaussian distributed, therefore scaling them between 0 and 1 with MinMaxScaler."
   ]
  },
  {
   "cell_type": "code",
   "execution_count": null,
   "id": "determined-marble",
   "metadata": {
    "execution": {
     "iopub.execute_input": "2021-06-02T16:01:51.330899Z",
     "iopub.status.busy": "2021-06-02T16:01:51.330174Z",
     "iopub.status.idle": "2021-06-02T16:01:51.540030Z",
     "shell.execute_reply": "2021-06-02T16:01:51.539272Z",
     "shell.execute_reply.started": "2021-05-27T17:19:44.630901Z"
    },
    "papermill": {
     "duration": 0.300047,
     "end_time": "2021-06-02T16:01:51.540197",
     "exception": false,
     "start_time": "2021-06-02T16:01:51.240150",
     "status": "completed"
    },
    "tags": []
   },
   "outputs": [],
   "source": [
    "from sklearn.model_selection import train_test_split\n",
    "from sklearn.preprocessing import MinMaxScaler\n",
    "\n",
    "X_train, X_test, y_train, y_test = train_test_split(X, y, random_state=1)\n",
    "\n",
    "scaler = MinMaxScaler()\n",
    "X_train_scaled = scaler.fit_transform(X_train)\n",
    "\n",
    "# we must apply the scaling to the test set as well that we are computing for the training set\n",
    "X_test_scaled = scaler.transform(X_test)\n"
   ]
  },
  {
   "cell_type": "markdown",
   "id": "systematic-lawsuit",
   "metadata": {
    "papermill": {
     "duration": 0.085859,
     "end_time": "2021-06-02T16:01:51.713254",
     "exception": false,
     "start_time": "2021-06-02T16:01:51.627395",
     "status": "completed"
    },
    "tags": []
   },
   "source": [
    "# MODEL SELECTION\n",
    "\n",
    "## KNN Classifier for Crop prediction. \n",
    "<hr>"
   ]
  },
  {
   "cell_type": "code",
   "execution_count": null,
   "id": "chronic-montgomery",
   "metadata": {
    "execution": {
     "iopub.execute_input": "2021-06-02T16:01:51.890163Z",
     "iopub.status.busy": "2021-06-02T16:01:51.889378Z",
     "iopub.status.idle": "2021-06-02T16:01:52.084696Z",
     "shell.execute_reply": "2021-06-02T16:01:52.084129Z",
     "shell.execute_reply.started": "2021-05-27T17:19:44.858654Z"
    },
    "papermill": {
     "duration": 0.285991,
     "end_time": "2021-06-02T16:01:52.084857",
     "exception": false,
     "start_time": "2021-06-02T16:01:51.798866",
     "status": "completed"
    },
    "tags": []
   },
   "outputs": [],
   "source": [
    "from sklearn.neighbors import KNeighborsClassifier\n",
    "\n",
    "knn = KNeighborsClassifier()\n",
    "knn.fit(X_train_scaled, y_train)\n",
    "knn.score(X_test_scaled, y_test)\n"
   ]
  },
  {
   "cell_type": "markdown",
   "id": "fossil-switch",
   "metadata": {
    "papermill": {
     "duration": 0.085275,
     "end_time": "2021-06-02T16:01:52.256403",
     "exception": false,
     "start_time": "2021-06-02T16:01:52.171128",
     "status": "completed"
    },
    "tags": []
   },
   "source": [
    "### Confusion Matrix"
   ]
  },
  {
   "cell_type": "code",
   "execution_count": null,
   "id": "impaired-lincoln",
   "metadata": {
    "execution": {
     "iopub.execute_input": "2021-06-02T16:01:52.434272Z",
     "iopub.status.busy": "2021-06-02T16:01:52.433635Z",
     "iopub.status.idle": "2021-06-02T16:01:54.490743Z",
     "shell.execute_reply": "2021-06-02T16:01:54.490205Z",
     "shell.execute_reply.started": "2021-05-27T17:19:45.071161Z"
    },
    "papermill": {
     "duration": 2.148996,
     "end_time": "2021-06-02T16:01:54.490884",
     "exception": false,
     "start_time": "2021-06-02T16:01:52.341888",
     "status": "completed"
    },
    "tags": []
   },
   "outputs": [],
   "source": [
    "from sklearn.metrics import confusion_matrix\n",
    "\n",
    "mat = confusion_matrix(y_test, knn.predict(X_test_scaled))\n",
    "df_cm = pd.DataFrame(mat, list(targets.values()), list(targets.values()))\n",
    "seaborn.set(font_scale=1.0)  # for label size\n",
    "matplotlib.pyplot.figure(figsize=(12, 8))\n",
    "seaborn.heatmap(df_cm, annot=True, annot_kws={\"size\": 12}, cmap=\"terrain\")\n"
   ]
  },
  {
   "cell_type": "markdown",
   "id": "appropriate-friday",
   "metadata": {
    "papermill": {
     "duration": 0.085987,
     "end_time": "2021-06-02T16:01:54.665758",
     "exception": false,
     "start_time": "2021-06-02T16:01:54.579771",
     "status": "completed"
    },
    "tags": []
   },
   "source": [
    "### Let's try different values of n_neighbors to fine tune and get better results"
   ]
  },
  {
   "cell_type": "code",
   "execution_count": null,
   "id": "dated-consortium",
   "metadata": {
    "execution": {
     "iopub.execute_input": "2021-06-02T16:01:54.843104Z",
     "iopub.status.busy": "2021-06-02T16:01:54.842461Z",
     "iopub.status.idle": "2021-06-02T16:01:55.311442Z",
     "shell.execute_reply": "2021-06-02T16:01:55.311954Z",
     "shell.execute_reply.started": "2021-05-27T17:19:47.383233Z"
    },
    "papermill": {
     "duration": 0.559178,
     "end_time": "2021-06-02T16:01:55.312123",
     "exception": false,
     "start_time": "2021-06-02T16:01:54.752945",
     "status": "completed"
    },
    "tags": []
   },
   "outputs": [],
   "source": [
    "k_range = range(1, 11)\n",
    "scores = []\n",
    "\n",
    "for k in k_range:\n",
    "    knn = KNeighborsClassifier(n_neighbors=k)\n",
    "    knn.fit(X_train_scaled, y_train)\n",
    "    scores.append(knn.score(X_test_scaled, y_test))\n",
    "\n",
    "matplotlib.pyplot.xlabel(\"k\")\n",
    "matplotlib.pyplot.ylabel(\"accuracy\")\n",
    "matplotlib.pyplot.scatter(k_range, scores)\n",
    "matplotlib.pyplot.vlines(k_range, 0, scores, linestyle=\"dashed\")\n",
    "matplotlib.pyplot.ylim(0.96, 0.99)\n",
    "matplotlib.pyplot.xticks([i for i in range(1, 11)])\n"
   ]
  },
  {
   "cell_type": "markdown",
   "id": "vanilla-plastic",
   "metadata": {
    "papermill": {
     "duration": 0.08709,
     "end_time": "2021-06-02T16:01:55.487669",
     "exception": false,
     "start_time": "2021-06-02T16:01:55.400579",
     "status": "completed"
    },
    "tags": []
   },
   "source": [
    "## Classification using Support Vector Classifer (SVC)\n",
    "<hr>"
   ]
  },
  {
   "cell_type": "code",
   "execution_count": null,
   "id": "raising-retirement",
   "metadata": {
    "execution": {
     "iopub.execute_input": "2021-06-02T16:01:55.667165Z",
     "iopub.status.busy": "2021-06-02T16:01:55.666503Z",
     "iopub.status.idle": "2021-06-02T16:01:55.860856Z",
     "shell.execute_reply": "2021-06-02T16:01:55.860044Z",
     "shell.execute_reply.started": "2021-05-27T17:19:47.918018Z"
    },
    "papermill": {
     "duration": 0.285326,
     "end_time": "2021-06-02T16:01:55.861042",
     "exception": false,
     "start_time": "2021-06-02T16:01:55.575716",
     "status": "completed"
    },
    "tags": []
   },
   "outputs": [],
   "source": [
    "from sklearn.svm import SVC as SupportVectorClassifier\n",
    "\n",
    "svc_poly = SupportVectorClassifier(kernel=\"rbf\").fit(X_train_scaled, y_train)\n",
    "print(\"Rbf Kernel Accuracy: \", svc_poly.score(X_test_scaled, y_test))\n",
    "\n",
    "svc_linear = SupportVectorClassifier(kernel=\"linear\").fit(X_train_scaled, y_train)\n",
    "print(\"Linear Kernel Accuracy: \", svc_linear.score(X_test_scaled, y_test))\n",
    "\n",
    "svc_poly = SupportVectorClassifier(kernel=\"poly\").fit(X_train_scaled, y_train)\n",
    "print(\"Poly Kernel Accuracy: \", svc_poly.score(X_test_scaled, y_test))\n"
   ]
  },
  {
   "cell_type": "code",
   "execution_count": null,
   "id": "third-consistency",
   "metadata": {
    "execution": {
     "iopub.execute_input": "2021-06-02T16:01:56.222774Z",
     "iopub.status.busy": "2021-06-02T16:01:56.221822Z",
     "iopub.status.idle": "2021-06-02T16:02:02.389431Z",
     "shell.execute_reply": "2021-06-02T16:02:02.388906Z",
     "shell.execute_reply.started": "2021-05-27T17:19:48.114632Z"
    },
    "papermill": {
     "duration": 6.260808,
     "end_time": "2021-06-02T16:02:02.389587",
     "exception": false,
     "start_time": "2021-06-02T16:01:56.128779",
     "status": "completed"
    },
    "tags": []
   },
   "outputs": [],
   "source": [
    "# Increase the accuracy by parameter tuning.\n",
    "\n",
    "\n",
    "from sklearn.metrics import accuracy_score\n",
    "from sklearn.model_selection import GridSearchCV\n",
    "\n",
    "parameters = {\n",
    "    \"C\": np.logspace(-3, 2, 6).tolist(),\n",
    "    \"gamma\": np.logspace(-3, 2, 6).tolist(),\n",
    "}\n",
    "# 'degree': np.arange(0,5,1).tolist(), 'kernel':['linear','rbf','poly']\n",
    "\n",
    "model = GridSearchCV(\n",
    "    estimator=SupportVectorClassifier(kernel=\"linear\"),\n",
    "    param_grid=parameters,\n",
    "    n_jobs=-1,\n",
    "    cv=4,\n",
    ")\n",
    "model.fit(X_train, y_train)\n"
   ]
  },
  {
   "cell_type": "code",
   "execution_count": null,
   "id": "focal-nevada",
   "metadata": {
    "execution": {
     "iopub.execute_input": "2021-06-02T16:02:02.573030Z",
     "iopub.status.busy": "2021-06-02T16:02:02.572248Z",
     "iopub.status.idle": "2021-06-02T16:02:02.575670Z",
     "shell.execute_reply": "2021-06-02T16:02:02.576260Z",
     "shell.execute_reply.started": "2021-05-27T17:19:54.313344Z"
    },
    "papermill": {
     "duration": 0.098169,
     "end_time": "2021-06-02T16:02:02.576435",
     "exception": false,
     "start_time": "2021-06-02T16:02:02.478266",
     "status": "completed"
    },
    "tags": []
   },
   "outputs": [],
   "source": [
    "print(model.best_score_)\n",
    "print(model.best_params_)\n"
   ]
  },
  {
   "attachments": {},
   "cell_type": "markdown",
   "id": "decent-appraisal",
   "metadata": {
    "papermill": {
     "duration": 0.089553,
     "end_time": "2021-06-02T16:02:02.754877",
     "exception": false,
     "start_time": "2021-06-02T16:02:02.665324",
     "status": "completed"
    },
    "tags": []
   },
   "source": [
    "- Liner kernel seems to be giving satisfactory results, but using fine tuning increases the computation.\n",
    "- The accuracy can be increased in poly-kernel by tweaking parameters, but it leads to intensive overfitting.\n",
    "- RBF > linear kernel result wise.\n",
    "- Best kernel - <b>Poly kernel</b> (by a small margin)."
   ]
  },
  {
   "cell_type": "markdown",
   "id": "center-chest",
   "metadata": {
    "papermill": {
     "duration": 0.089811,
     "end_time": "2021-06-02T16:02:02.934776",
     "exception": false,
     "start_time": "2021-06-02T16:02:02.844965",
     "status": "completed"
    },
    "tags": []
   },
   "source": [
    "## Classifying using decision tree\n",
    "<hr>"
   ]
  },
  {
   "cell_type": "code",
   "execution_count": null,
   "id": "pharmaceutical-priority",
   "metadata": {
    "execution": {
     "iopub.execute_input": "2021-06-02T16:02:03.117266Z",
     "iopub.status.busy": "2021-06-02T16:02:03.116648Z",
     "iopub.status.idle": "2021-06-02T16:02:03.174040Z",
     "shell.execute_reply": "2021-06-02T16:02:03.174481Z",
     "shell.execute_reply.started": "2021-05-27T17:19:54.321552Z"
    },
    "papermill": {
     "duration": 0.15019,
     "end_time": "2021-06-02T16:02:03.174680",
     "exception": false,
     "start_time": "2021-06-02T16:02:03.024490",
     "status": "completed"
    },
    "tags": []
   },
   "outputs": [],
   "source": [
    "from sklearn.tree import DecisionTreeClassifier\n",
    "\n",
    "clf = DecisionTreeClassifier(random_state=42).fit(X_train, y_train)\n",
    "clf.score(X_test, y_test)\n"
   ]
  },
  {
   "cell_type": "markdown",
   "id": "usual-month",
   "metadata": {
    "papermill": {
     "duration": 0.088828,
     "end_time": "2021-06-02T16:02:03.355351",
     "exception": false,
     "start_time": "2021-06-02T16:02:03.266523",
     "status": "completed"
    },
    "tags": []
   },
   "source": [
    "### Let's visualize the import features which are taken into consideration by decision trees."
   ]
  },
  {
   "cell_type": "code",
   "execution_count": null,
   "id": "worth-kuwait",
   "metadata": {
    "execution": {
     "iopub.execute_input": "2021-06-02T16:02:03.537299Z",
     "iopub.status.busy": "2021-06-02T16:02:03.536705Z",
     "iopub.status.idle": "2021-06-02T16:02:03.751960Z",
     "shell.execute_reply": "2021-06-02T16:02:03.752478Z",
     "shell.execute_reply.started": "2021-05-27T17:19:54.384732Z"
    },
    "papermill": {
     "duration": 0.307874,
     "end_time": "2021-06-02T16:02:03.752659",
     "exception": false,
     "start_time": "2021-06-02T16:02:03.444785",
     "status": "completed"
    },
    "tags": []
   },
   "outputs": [],
   "source": [
    "matplotlib.pyplot.figure(figsize=(10, 4), dpi=80)\n",
    "c_features = len(X_train.columns)\n",
    "matplotlib.pyplot.barh(range(c_features), clf.feature_importances_)\n",
    "matplotlib.pyplot.xlabel(\"Feature importance\")\n",
    "matplotlib.pyplot.ylabel(\"Feature name\")\n",
    "matplotlib.pyplot.yticks(np.arange(c_features), X_train.columns)\n",
    "matplotlib.pyplot.show()\n"
   ]
  },
  {
   "cell_type": "markdown",
   "id": "broke-gauge",
   "metadata": {
    "papermill": {
     "duration": 0.091508,
     "end_time": "2021-06-02T16:02:03.934808",
     "exception": false,
     "start_time": "2021-06-02T16:02:03.843300",
     "status": "completed"
    },
    "tags": []
   },
   "source": [
    "## Classification using Random Forest.\n",
    "<hr>"
   ]
  },
  {
   "cell_type": "code",
   "execution_count": null,
   "id": "different-driving",
   "metadata": {
    "execution": {
     "iopub.execute_input": "2021-06-02T16:02:04.118021Z",
     "iopub.status.busy": "2021-06-02T16:02:04.117353Z",
     "iopub.status.idle": "2021-06-02T16:02:04.544793Z",
     "shell.execute_reply": "2021-06-02T16:02:04.544231Z",
     "shell.execute_reply.started": "2021-05-27T17:19:54.633347Z"
    },
    "papermill": {
     "duration": 0.520544,
     "end_time": "2021-06-02T16:02:04.544951",
     "exception": false,
     "start_time": "2021-06-02T16:02:04.024407",
     "status": "completed"
    },
    "tags": []
   },
   "outputs": [],
   "source": [
    "from sklearn.ensemble import RandomForestClassifier\n",
    "\n",
    "clf = RandomForestClassifier(max_depth=4, n_estimators=100, random_state=42).fit(\n",
    "    X_train, y_train\n",
    ")\n",
    "\n",
    "print(\"RF Accuracy on training set: {:.2f}\".format(clf.score(X_train, y_train)))\n",
    "print(\"RF Accuracy on test set: {:.2f}\".format(clf.score(X_test, y_test)))\n"
   ]
  },
  {
   "attachments": {},
   "cell_type": "markdown",
   "id": "tight-british",
   "metadata": {
    "execution": {
     "iopub.execute_input": "2021-05-27T09:17:06.540362Z",
     "iopub.status.busy": "2021-05-27T09:17:06.539847Z",
     "iopub.status.idle": "2021-05-27T09:17:06.545961Z",
     "shell.execute_reply": "2021-05-27T09:17:06.544626Z",
     "shell.execute_reply.started": "2021-05-27T09:17:06.540325Z"
    },
    "papermill": {
     "duration": 0.093172,
     "end_time": "2021-06-02T16:02:04.731131",
     "exception": false,
     "start_time": "2021-06-02T16:02:04.637959",
     "status": "completed"
    },
    "tags": []
   },
   "source": [
    "#### Classification\n",
    "\n",
    "Let's use `yellowbrick` for classification report. It is great for visualizing in a tabular format."
   ]
  },
  {
   "cell_type": "code",
   "execution_count": null,
   "id": "veterinary-restriction",
   "metadata": {
    "execution": {
     "iopub.execute_input": "2021-06-02T16:02:04.925302Z",
     "iopub.status.busy": "2021-06-02T16:02:04.924411Z",
     "iopub.status.idle": "2021-06-02T16:02:05.857483Z",
     "shell.execute_reply": "2021-06-02T16:02:05.857935Z",
     "shell.execute_reply.started": "2021-05-27T17:19:55.01038Z"
    },
    "papermill": {
     "duration": 1.032978,
     "end_time": "2021-06-02T16:02:05.858140",
     "exception": false,
     "start_time": "2021-06-02T16:02:04.825162",
     "status": "completed"
    },
    "tags": []
   },
   "outputs": [],
   "source": [
    "from yellowbrick.classifier import ClassificationReport\n",
    "\n",
    "classes = list(targets.values())\n",
    "visualizer = ClassificationReport(clf, classes=classes, support=True, cmap=\"Blues\")\n",
    "\n",
    "visualizer.fit(X_train, y_train)  # Fit the visualizer and the model\n",
    "visualizer.score(X_test, y_test)  # Evaluate the model on the test data\n",
    "visualizer.show()\n"
   ]
  },
  {
   "cell_type": "markdown",
   "id": "willing-allocation",
   "metadata": {
    "execution": {
     "iopub.execute_input": "2021-05-26T16:46:54.307053Z",
     "iopub.status.busy": "2021-05-26T16:46:54.306782Z",
     "iopub.status.idle": "2021-05-26T16:46:54.313148Z",
     "shell.execute_reply": "2021-05-26T16:46:54.311805Z",
     "shell.execute_reply.started": "2021-05-26T16:46:54.30703Z"
    },
    "papermill": {
     "duration": 0.094196,
     "end_time": "2021-06-02T16:02:06.048500",
     "exception": false,
     "start_time": "2021-06-02T16:02:05.954304",
     "status": "completed"
    },
    "tags": []
   },
   "source": [
    "## Classification using Gradient Boosting\n",
    "<hr>"
   ]
  },
  {
   "cell_type": "code",
   "execution_count": null,
   "id": "certified-traveler",
   "metadata": {
    "execution": {
     "iopub.execute_input": "2021-06-02T16:02:06.245882Z",
     "iopub.status.busy": "2021-06-02T16:02:06.244955Z",
     "iopub.status.idle": "2021-06-02T16:02:16.220826Z",
     "shell.execute_reply": "2021-06-02T16:02:16.221613Z",
     "shell.execute_reply.started": "2021-05-27T17:19:56.081214Z"
    },
    "papermill": {
     "duration": 10.078227,
     "end_time": "2021-06-02T16:02:16.221864",
     "exception": false,
     "start_time": "2021-06-02T16:02:06.143637",
     "status": "completed"
    },
    "tags": []
   },
   "outputs": [],
   "source": [
    "from sklearn.ensemble import GradientBoostingClassifier\n",
    "\n",
    "grad = GradientBoostingClassifier().fit(X_train, y_train)\n",
    "print(\"Gradient Boosting accuracy : {}\".format(grad.score(X_test, y_test)))\n"
   ]
  }
 ],
 "metadata": {
  "kernelspec": {
   "display_name": "Machine_Learning-NXN-BPO0",
   "language": "python",
   "name": "python3"
  },
  "language_info": {
   "codemirror_mode": {
    "name": "ipython",
    "version": 3
   },
   "file_extension": ".py",
   "mimetype": "text/x-python",
   "name": "python",
   "nbconvert_exporter": "python",
   "pygments_lexer": "ipython3",
   "version": "3.11.0"
  },
  "papermill": {
   "default_parameters": {},
   "duration": 84.973727,
   "end_time": "2021-06-02T16:02:17.948788",
   "environment_variables": {},
   "exception": null,
   "input_path": "__notebook__.ipynb",
   "output_path": "__notebook__.ipynb",
   "parameters": {},
   "start_time": "2021-06-02T16:00:52.975061",
   "version": "2.3.3"
  },
  "vscode": {
   "interpreter": {
    "hash": "9bb33b452fd3d95587090cef23e366df533fb561ebc623e187577c3d7d8ad80e"
   }
  }
 },
 "nbformat": 4,
 "nbformat_minor": 5
}
